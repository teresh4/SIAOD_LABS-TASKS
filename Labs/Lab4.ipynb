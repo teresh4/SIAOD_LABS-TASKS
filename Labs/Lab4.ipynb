{
 "cells": [
  {
   "cell_type": "markdown",
   "id": "fifteen-sailing",
   "metadata": {},
   "source": [
    "# Лабораторная работа №4\n",
    "## Выполнил студент группы БВТ2002 Терешонок Арсений Алексеевич"
   ]
  },
  {
   "cell_type": "markdown",
   "id": "arctic-stocks",
   "metadata": {},
   "source": [
    "Реализовать следующие структуры данных:\n",
    "  \n",
    "● <b> Стек (stack): </b>  \n",
    "Операции для стека: \n",
    "<i> инициализация, проверка на пустоту, добавление нового элемента в начало, извлечение элемента из начала;  </i>  \n",
    "  \n",
    "● <b> Дек (двусторонняя очередь, deque):  </b>  \n",
    "Операции для дека: \n",
    "<i> инициализация, проверка на пустоту, добавление нового элемента в начало, добавление нового элемента в конец, извлечение элемента из начала, извлечение элемента из конца. </i>  \n",
    "  \n",
    "<i> Разработать программу обработки данных, содержащихся в заранее подготовленном txt-файле, в соответствии с заданиями, применив указанную в задании структуру данных. Результат работы программы вывести на экран и сохранить в отдельном txt-файле. </i>"
   ]
  },
  {
   "cell_type": "code",
   "execution_count": 51,
   "id": "c1644721",
   "metadata": {},
   "outputs": [],
   "source": [
    "class Node:\n",
    "    def __init__(self, data):\n",
    "        self.data = data\n",
    "        self.next_ = None\n",
    "class Stack:\n",
    "    def __init__(self):\n",
    "        self.head = Node(\"head\")\n",
    "        self.size = 0\n",
    "    def is_empty(self):\n",
    "        return self.size == 0\n",
    "    def add(self, data):\n",
    "        node = Node(data)\n",
    "        node.next_ = self.head.next_\n",
    "        self.head.next_ = node\n",
    "        self.size += 1\n",
    "    def pop(self):\n",
    "        if self.is_empty():\n",
    "            raise Exception(\"Stack is empty\")\n",
    "        res = self.head.next_\n",
    "        self.head.next_ = self.head.next_.next_\n",
    "        self.size -= 1\n",
    "        return res.data\n",
    "    def peek(self):\n",
    "        if self.is_empty():\n",
    "            raise Exception(\"Stack is empty\")\n",
    "        return self.head.next_.data\n",
    "    def __str__(self):\n",
    "        root = self.head.next_\n",
    "        res = \"\"\n",
    "        while root is not None:\n",
    "            res += str(root.data) + \" \"\n",
    "            root = root.next_\n",
    "        return res"
   ]
  },
  {
   "cell_type": "code",
   "execution_count": 52,
   "id": "e5448a21",
   "metadata": {},
   "outputs": [],
   "source": [
    "class DNode:\n",
    "    def __init__(self, data):\n",
    "        self.data = data\n",
    "        self.next_ = None\n",
    "        self.last_ = None\n",
    "class Deque:\n",
    "    def __init__(self):\n",
    "        self.head = DNode(\"head\")\n",
    "        self.tail = DNode(\"tail\")\n",
    "        self.size = 0\n",
    "    def is_empty(self):\n",
    "        return self.size == 0\n",
    "    def add_first(self, data):\n",
    "        node = DNode(data)\n",
    "        if self.is_empty():\n",
    "            node.last_ = self.head\n",
    "            node.next_ = self.tail\n",
    "            self.head.next_ = node\n",
    "            self.tail.last_ = node\n",
    "        else:\n",
    "            node.next_ = self.head.next_\n",
    "            node.last_ = self.head\n",
    "            self.head.next_ = node\n",
    "        self.size += 1\n",
    "    def add_last(self, data):\n",
    "        node = DNode(data)\n",
    "        if self.is_empty():\n",
    "            node.last_ = self.head\n",
    "            node.next_ = self.tail\n",
    "            self.head.next_ = node\n",
    "            self.tail.last_ = node\n",
    "        else:\n",
    "            node.last_ = self.tail.last_\n",
    "            self.tail.last_.next_ = node\n",
    "            self.tail.last_ = node\n",
    "        self.size += 1\n",
    "    def pop_first(self):\n",
    "        if self.is_empty():\n",
    "            raise Exception(\"Stack is empty\")\n",
    "        res = self.head.next_\n",
    "        self.head.next_ = self.head.next_.next_\n",
    "        self.size -= 1\n",
    "        return res.data\n",
    "    def pop_last(self):\n",
    "        if self.is_empty():\n",
    "            raise Exception(\"Stack is empty\")\n",
    "        res = self.tail.last_\n",
    "        self.tail.last_ = self.tail.last_.last_\n",
    "        self.size -= 1\n",
    "        return res.data\n",
    "    def peek_last(self):\n",
    "        if self.is_empty():\n",
    "            raise Exception(\"Stack is empty\")\n",
    "        return self.tail.last_.data\n",
    "    def peek_first(self):\n",
    "        if self.is_empty():\n",
    "            raise Exception(\"Stack is empty\")\n",
    "        return self.head.next_.data\n",
    "    def __str__(self):\n",
    "        root = self.head.next_\n",
    "        res = \"\"\n",
    "        while root is not None and root.data != \"tail\":\n",
    "            res += str(root.data) + \" \"\n",
    "            root = root.next_\n",
    "        return res"
   ]
  },
  {
   "cell_type": "code",
   "execution_count": 53,
   "id": "122a9bf3",
   "metadata": {},
   "outputs": [],
   "source": [
    "def write_txt(file_name, data):\n",
    "    file_name = \"./\"+file_name\n",
    "    with open(file_name, \"w\") as f:\n",
    "        f.write(str(data))\n",
    "    return str(data)"
   ]
  },
  {
   "cell_type": "code",
   "execution_count": 54,
   "id": "b04f645e",
   "metadata": {},
   "outputs": [],
   "source": [
    "def read_txt(file_name):\n",
    "    res = Deque()\n",
    "    with open(\"./\" + file_name, \"r\") as f:\n",
    "        for line in f.readlines():\n",
    "            res.add_last(line.replace(\"\\n\", \"\"))\n",
    "        print(str(file_name.split('.')[0])+\" input: \"+str(res))\n",
    "    return res"
   ]
  },
  {
   "cell_type": "markdown",
   "id": "5d7edb08",
   "metadata": {
    "scrolled": true
   },
   "source": [
    "### Задание №1\n",
    "Отсортировать строки файла, содержащие названия книг, в алфавитном порядке с использованием двух деков."
   ]
  },
  {
   "cell_type": "code",
   "execution_count": 55,
   "id": "17702ade",
   "metadata": {},
   "outputs": [
    {
     "name": "stdout",
     "output_type": "stream",
     "text": [
      "task1 input: f e d c b a \n",
      "a b c d e f \n"
     ]
    }
   ],
   "source": [
    "def solution1():\n",
    "    inp = read_txt(\"task1.txt\")\n",
    "    tmp_deque = Deque()\n",
    "    while not inp.is_empty():\n",
    "        elem = inp.pop_last()\n",
    "        while not tmp_deque.is_empty() and tmp_deque.peek_last() > elem:\n",
    "            inp.add_last(tmp_deque.pop_last())\n",
    "        tmp_deque.add_last(elem)\n",
    "    return write_txt(\"solution1.txt\", str(tmp_deque))\n",
    "print(solution1())"
   ]
  },
  {
   "cell_type": "markdown",
   "id": "49fbd2a0",
   "metadata": {},
   "source": [
    "### Задание №2\n",
    "Дек содержит последовательность символов для шифровки сообщений. Дан текстовый файл, содержащий зашифрованное сообщение. Пользуясь деком, расшифровать текст. \n",
    "Известно, что при шифровке каждый символ сообщения заменялся следующим за ним в деке по часовой стрелке через один."
   ]
  },
  {
   "cell_type": "code",
   "execution_count": 56,
   "id": "81cab7a8",
   "metadata": {},
   "outputs": [
    {
     "name": "stdout",
     "output_type": "stream",
     "text": [
      "task2_text input: 11223344 \n",
      "task2_dict input: 1 2 3 4 \n",
      "33441122\n"
     ]
    }
   ],
   "source": [
    "def solution2():\n",
    "    text = str(read_txt(\"task2_text.txt\"))\n",
    "    res = [\"\" for i in range(len(text)-1)]\n",
    "    dictionary = read_txt(\"task2_dict.txt\")\n",
    "    for i in range(dictionary.size):\n",
    "        l1 = dictionary.pop_first()\n",
    "        l2 = dictionary.pop_first()\n",
    "        for i in range(len(text)):\n",
    "            if text[i] == str(l1):\n",
    "                res[i] = str(dictionary.peek_first())\n",
    "        dictionary.add_first(l2)\n",
    "        dictionary.add_last(l1)\n",
    "    return write_txt(\"solution2.txt\", ''.join(res))\n",
    "print(solution2())"
   ]
  },
  {
   "cell_type": "markdown",
   "id": "c0894f47",
   "metadata": {},
   "source": [
    "### Задание №3\n",
    "Даны три стержня и n дисков различного размера. Диски можно надевать на стержни, образуя из них башни. Перенести n дисков со стержня А на стержень С, сохранив их первоначальный порядок. При переносе дисков необходимо соблюдать следующие правила:\n",
    "- на каждом шаге со стержня на стержень переносить только один диск;\n",
    "- диск нельзя помещать на диск меньшего размера;\n",
    "- для промежуточного хранения можно использовать стержень В.\n",
    "Реализовать алгоритм, используя три стека вместо стержней А, В, С. Информация о дисках хранится в исходном файле."
   ]
  },
  {
   "cell_type": "code",
   "execution_count": 57,
   "id": "9e91a9d4",
   "metadata": {},
   "outputs": [
    {
     "name": "stdout",
     "output_type": "stream",
     "text": [
      "task3 input: 9 \n",
      "1 2 3 4 5 6 7 8 9 \n"
     ]
    }
   ],
   "source": [
    "def solution3():\n",
    "    n = int(read_txt(\"task3.txt\").pop_first())\n",
    "    a, b, c = Stack(), Stack(), Stack()\n",
    "    for i in range(n, 0, -1):\n",
    "        a.add(i)\n",
    "    move(n, a, b, c)\n",
    "    return write_txt(\"solution3.txt\", c)\n",
    "def move(rings_count, a, b, c):\n",
    "    if rings_count == 1:\n",
    "        c.add(a.pop())\n",
    "        return\n",
    "    move(rings_count - 1, a, c, b)\n",
    "    c.add(a.pop())\n",
    "    move(rings_count - 1, b, a, c)\n",
    "print(solution3())"
   ]
  },
  {
   "cell_type": "markdown",
   "id": "e5b0be17",
   "metadata": {},
   "source": [
    "### Задание №4\n",
    "Дан текстовый файл с программой на алгоритмическом языке. За один просмотр файла проверить баланс круглых скобок в тексте, используя стек."
   ]
  },
  {
   "cell_type": "code",
   "execution_count": 58,
   "id": "5b1df60a",
   "metadata": {},
   "outputs": [
    {
     "name": "stdout",
     "output_type": "stream",
     "text": [
      "task4 input: def main():     print(\"Hello World!\"))     a = [1, 2, 3] \n",
      "False\n"
     ]
    }
   ],
   "source": [
    "def solution4():\n",
    "    txt = str(read_txt(\"task4.txt\"))\n",
    "    s = Stack()\n",
    "    for i in txt:\n",
    "        if i in (\"(\", \")\"):\n",
    "            if s.is_empty() or s.peek() == i:\n",
    "                s.add(i)\n",
    "            else:\n",
    "                s.pop()\n",
    "    return write_txt(\"solution4.txt\", s.is_empty())\n",
    "print(solution4())"
   ]
  },
  {
   "cell_type": "markdown",
   "id": "c44cdd6b",
   "metadata": {},
   "source": [
    "### Задание №5\n",
    "Дан текстовый файл с программой на алгоритмическом языке. За один просмотр файла проверить баланс квадратных скобок в тексте, используя дек."
   ]
  },
  {
   "cell_type": "code",
   "execution_count": 59,
   "id": "36b8f400",
   "metadata": {},
   "outputs": [
    {
     "name": "stdout",
     "output_type": "stream",
     "text": [
      "task4 input: def main():     print(\"Hello World!\"))     a = [1, 2, 3] \n",
      "True\n"
     ]
    }
   ],
   "source": [
    "def solution5():\n",
    "    txt = str(read_txt(\"task4.txt\"))\n",
    "    d = Deque()\n",
    "    for i in txt:\n",
    "        if i in (\"[\", \"]\"):\n",
    "            if d.is_empty() or d.peek_first() == i:\n",
    "                d.add_first(i)\n",
    "            else:\n",
    "                d.pop_first()\n",
    "    return write_txt(\"solution5.txt\", d.is_empty())\n",
    "print(solution5())"
   ]
  },
  {
   "cell_type": "markdown",
   "id": "59d13dc7",
   "metadata": {},
   "source": [
    "### Задание №6\n",
    "Дан файл из символов. Используя стек, за один просмотр файла напечатать сначала все цифры, затем все буквы, и, наконец, все остальные символы, сохраняя исходный порядок в каждой группе символов."
   ]
  },
  {
   "cell_type": "code",
   "execution_count": 60,
   "id": "297e36c2",
   "metadata": {},
   "outputs": [
    {
     "name": "stdout",
     "output_type": "stream",
     "text": [
      "task6 input: AsFa214@#$3SsdfASD*&(*^13 \n",
      "214313AsFaSsdfASD@#$*&(*^ \n"
     ]
    }
   ],
   "source": [
    "def solution6():\n",
    "    letters = Stack()\n",
    "    symbols = Stack()\n",
    "    txt = str(read_txt(\"task6.txt\"))\n",
    "    res = \"\"\n",
    "    for i in txt:\n",
    "        if 48 <= ord(i) <= 57:\n",
    "            res += i\n",
    "        elif 97 <= ord(i) <= 122 or 65 <= ord(i) <= 90:\n",
    "            letters.add(i)\n",
    "        else:\n",
    "            symbols.add(i)\n",
    "    letters_res = \"\"\n",
    "    while not letters.is_empty():\n",
    "        letters_res += letters.pop()\n",
    "    symbols_res = \"\"\n",
    "    while not symbols.is_empty():\n",
    "        symbols_res += symbols.pop()\n",
    "    return write_txt(\"solution6.txt\", res + letters_res[::-1] + symbols_res[::-1])\n",
    "print(solution6())"
   ]
  },
  {
   "cell_type": "markdown",
   "id": "973f68bd",
   "metadata": {},
   "source": [
    "### Задание №7\n",
    "Дан файл из целых чисел. Используя дек, за один просмотр файла напечатать сначала все отрицательные числа, затем все положительные числа, сохраняя исходный порядок в каждой группе."
   ]
  },
  {
   "cell_type": "code",
   "execution_count": 61,
   "id": "c56fad66",
   "metadata": {},
   "outputs": [
    {
     "name": "stdout",
     "output_type": "stream",
     "text": [
      "task7 input: 0 -1 -4 3 2 5 -6 -8 1 \n",
      "-1 -4 -6 -8 0 3 2 5 1 \n"
     ]
    }
   ],
   "source": [
    "def solution7():\n",
    "    a = str(read_txt(\"task7.txt\"))\n",
    "    d = Deque()\n",
    "    res = \"\"\n",
    "    for i in a.split():\n",
    "        if int(i) < 0:\n",
    "            res += str(int(i)) + \" \"\n",
    "        else:\n",
    "            d.add_last(int(i))\n",
    "    return write_txt(\"solution7.txt\", res + str(d))\n",
    "print(solution7())"
   ]
  },
  {
   "cell_type": "markdown",
   "id": "b9228191",
   "metadata": {},
   "source": [
    "### Задание №8\n",
    "Дан текстовый файл. Используя стек, сформировать новый текстовый файл, содержащий строки исходного файла, записанные в обратном порядке: первая строка становится последней, вторая – предпоследней и т.д."
   ]
  },
  {
   "cell_type": "code",
   "execution_count": 62,
   "id": "981fbdfe",
   "metadata": {},
   "outputs": [
    {
     "name": "stdout",
     "output_type": "stream",
     "text": [
      "task8 input: row1 row2 row3 row4 row5 \n",
      "row5 row4 row3 row2 row1 \n"
     ]
    }
   ],
   "source": [
    "def solution8():\n",
    "    txt = str(read_txt(\"task8.txt\")).split()\n",
    "    s = Stack()\n",
    "    for row in txt:\n",
    "        s.add(row)\n",
    "    res = \"\"\n",
    "    while not s.is_empty():\n",
    "        res += s.pop() + \" \"\n",
    "    return write_txt(\"solution8.txt\", res)\n",
    "print(solution8())"
   ]
  },
  {
   "cell_type": "markdown",
   "id": "rental-jerusalem",
   "metadata": {},
   "source": [
    "### Вывод\n"
   ]
  },
  {
   "cell_type": "markdown",
   "id": "0c2b8899",
   "metadata": {},
   "source": [
    "В ходе  данной лабораторной работе были написаны две коллекции - Stack и Deque. Кроме этого, были решены задачи на использование данных структур данных и отработаны навыки работы с файлами в языке Python"
   ]
  }
 ],
 "metadata": {
  "kernelspec": {
   "display_name": "Python 3 (ipykernel)",
   "language": "python",
   "name": "python3"
  },
  "language_info": {
   "codemirror_mode": {
    "name": "ipython",
    "version": 3
   },
   "file_extension": ".py",
   "mimetype": "text/x-python",
   "name": "python",
   "nbconvert_exporter": "python",
   "pygments_lexer": "ipython3",
   "version": "3.9.7"
  }
 },
 "nbformat": 4,
 "nbformat_minor": 5
}
