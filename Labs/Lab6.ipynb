{
 "cells": [
  {
   "cell_type": "markdown",
   "metadata": {
    "id": "0z3KlfKDn4_K"
   },
   "source": [
    "# Лабораторная работа 6. \n",
    "# Сетевые алгоритмы. Динамические алгоритмы поиска путей.\n"
   ]
  },
  {
   "cell_type": "markdown",
   "metadata": {
    "id": "96Gi_LEvmSVH"
   },
   "source": [
    "## Выполнил студент группы БВТ2002 Терешонок Арсенийc Алексеевич\n",
    "***"
   ]
  },
  {
   "cell_type": "markdown",
   "metadata": {
    "id": "GjdIp8aToKIe"
   },
   "source": [
    "### Задание\n",
    "\n",
    "1.  Реализовать алгоритм поиска кратчайшего расстояния между двумя вершинами ориентированного взвешенного графа в соответствии с вариантом. \n",
    "\n",
    "2.  Предусмотреть задание графа в виде матрицы смежности/инцидентности, читаемой из файла, либо графически с помощью пользовательского интерфейса. \n",
    "\n",
    "3.  Разработать графический интерфейс пользователя с визуализацией графа и отображением кратчайшего расстояния между задаваемыми пользователем вершинами.\n",
    "\n",
    "4. По результатам работы проанализировать временную сложность работы заданного алгоритма в зависимости от числа узлов и ребер графа.\n",
    "Данные представить в виде таблицы.\n",
    "\n"
   ]
  },
  {
   "cell_type": "markdown",
   "metadata": {
    "id": "LhhUXrAmotIA"
   },
   "source": [
    "### Алгоритмы:\n",
    "\n",
    "Алгоритм Флойда-Уоршелла| Алгоритм Дейкстры | Алгоритм Беллмана-Форда | Алгоритм Джонсона| Алгоритм Левита | Алгоритм Йена\n",
    "\n"
   ]
  },
  {
   "cell_type": "markdown",
   "metadata": {
    "id": "Wggfn8l7nG72"
   },
   "source": [
    "### Выполнение:"
   ]
  },
  {
   "cell_type": "code",
   "execution_count": 6,
   "metadata": {},
   "outputs": [],
   "source": [
    "import math\n",
    "import time\n",
    "import networkx as nx\n",
    "import ipywidgets as widgets\n",
    "import pandas as pd\n",
    "from ipywidgets import interact, interact_manual\n",
    "from pyvis.network import Network\n",
    "from collections import deque"
   ]
  },
  {
   "cell_type": "code",
   "execution_count": 7,
   "metadata": {},
   "outputs": [],
   "source": [
    "def read_matrix(file):\n",
    "    matrix = []\n",
    "    with open(\"./\" + file, \"r\") as f:\n",
    "        for line in f.readlines():\n",
    "            matrix.append(line.split())\n",
    "    matrix = [[int(num) for num in matrix[i]] for i in range(len(matrix))]\n",
    "    for i in range(len(matrix)):\n",
    "        for j in range(len(matrix[i])):\n",
    "            if matrix[i][j] == 0 and i != j:\n",
    "                matrix[i][j] = math.inf\n",
    "    return matrix"
   ]
  },
  {
   "cell_type": "code",
   "execution_count": 8,
   "metadata": {},
   "outputs": [],
   "source": [
    "def make_graph(matrix, m_type):\n",
    "    G = nx.MultiDiGraph()\n",
    "    if m_type == 0:\n",
    "        for i in range(len(matrix[0])):\n",
    "            x = -1\n",
    "            for j in range(len(matrix)):\n",
    "                if x != -1 and matrix[j][i] != 0 and matrix[j][i] != math.inf:\n",
    "                    G.add_edge(x, j+1)\n",
    "                if x == -1 and matrix[j][i] != 0 and matrix[j][i] != math.inf:\n",
    "                    x = j+1\n",
    "    if m_type == 1:\n",
    "        for i in range(len(matrix)):\n",
    "            G.add_node(i+1)\n",
    "            for j in range(len(matrix[0])):\n",
    "                if i != j and matrix[i][j] != math.inf:\n",
    "                    G.add_edge(j+1, i+1, weight=matrix[i][j])\n",
    "    nt = Network(notebook=True, directed=True)\n",
    "    nt.from_nx(G)\n",
    "    return nt"
   ]
  },
  {
   "cell_type": "code",
   "execution_count": 4,
   "metadata": {
    "scrolled": false
   },
   "outputs": [
    {
     "data": {
      "application/vnd.jupyter.widget-view+json": {
       "model_id": "bb3eb2b0ce9a4268abe49eb5ac9707f4",
       "version_major": 2,
       "version_minor": 0
      },
      "text/plain": [
       "interactive(children=(Text(value='', description='add_node'), Text(value='', description='add_edge'), Text(val…"
      ]
     },
     "metadata": {},
     "output_type": "display_data"
    }
   ],
   "source": [
    "graph = nx.MultiDiGraph()\n",
    "nb = Network(notebook=True, directed=True)\n",
    "def user_make_graph(add_node=\"\", add_edge=\"\", edge_width=\"1\"):\n",
    "    if add_node != \"\":\n",
    "        add_node = add_node.split()\n",
    "        graph.add_node(int(add_node[0]))\n",
    "    if add_edge != \"\":\n",
    "        if \",\" in add_edge and edge_width != \"\":\n",
    "            graph.add_edge(int(add_edge.split(\",\")[0]), int(add_edge.split(\",\")[1]), width=edge_width, weight=edge_width)\n",
    "    nb.from_nx(graph)\n",
    "    return nb.show(\"basic.html\")\n",
    "my_interact_manual = interact_manual.options(manual_name=\"Run\")\n",
    "my_interact_manual(user_make_graph);"
   ]
  },
  {
   "cell_type": "code",
   "execution_count": 9,
   "metadata": {},
   "outputs": [
    {
     "data": {
      "text/html": [
       "\n",
       "        <iframe\n",
       "            width=\"500px\"\n",
       "            height=\"500px\"\n",
       "            src=\"basic.html\"\n",
       "            frameborder=\"0\"\n",
       "            allowfullscreen\n",
       "            \n",
       "        ></iframe>\n",
       "        "
      ],
      "text/plain": [
       "<IPython.lib.display.IFrame at 0x1dc0a0f8340>"
      ]
     },
     "execution_count": 9,
     "metadata": {},
     "output_type": "execute_result"
    }
   ],
   "source": [
    "nb.show(\"basic.html\")"
   ]
  },
  {
   "cell_type": "code",
   "execution_count": 10,
   "metadata": {},
   "outputs": [],
   "source": [
    "def make_adjacency_matrix(G):\n",
    "    matrix = [[0]*len(G.nodes) for i in range(len(G.nodes))]\n",
    "    for i in range(1,len(G.nodes)):\n",
    "        pairs = list(G.edges)\n",
    "        for j in range(len(pairs)):\n",
    "            if pairs[j]['from'] == i:\n",
    "                matrix[pairs[j]['to']-1][i-1] = pairs[j]['weight']\n",
    "            if pairs[j]['to'] == i:\n",
    "                matrix[i-1][pairs[j]['from']-1] = pairs[j]['weight']\n",
    "    return matrix"
   ]
  },
  {
   "cell_type": "code",
   "execution_count": 11,
   "metadata": {},
   "outputs": [],
   "source": [
    "def new_graph(G, res):\n",
    "    graph = nx.MultiDiGraph()\n",
    "    edges = list(G.edges)\n",
    "    for i in range(len(edges)):\n",
    "        if not edges[i]['from'] in res or not edges[i]['to'] in res:\n",
    "            graph.add_edge(edges[i]['from'], edges[i]['to'], weight=edges[i]['weight'])\n",
    "    for i in range(len(edges)):\n",
    "        if edges[i]['from'] in res and edges[i]['to'] in res:\n",
    "            graph.add_edge(edges[i]['from'], edges[i]['to'], weight=edges[i]['weight'], width=10)\n",
    "    nt = Network(notebook=True, directed=True)\n",
    "    nt.from_nx(graph)\n",
    "    return nt"
   ]
  },
  {
   "cell_type": "code",
   "execution_count": 12,
   "metadata": {},
   "outputs": [],
   "source": [
    "def remove_edge(G, edge):\n",
    "    M = make_adjacency_matrix(G)\n",
    "    M[edge[1]-1][edge[0]-1] = 0\n",
    "    for i in range(len(M)):\n",
    "        for j in range(len(M[i])):\n",
    "            if M[i][j] == 0 and i != j:\n",
    "                M[i][j] = math.inf\n",
    "    G = make_graph(M, 1)\n",
    "    return G"
   ]
  },
  {
   "cell_type": "code",
   "execution_count": 13,
   "metadata": {},
   "outputs": [
    {
     "data": {
      "text/html": [
       "\n",
       "        <iframe\n",
       "            width=\"500px\"\n",
       "            height=\"500px\"\n",
       "            src=\"basic.html\"\n",
       "            frameborder=\"0\"\n",
       "            allowfullscreen\n",
       "            \n",
       "        ></iframe>\n",
       "        "
      ],
      "text/plain": [
       "<IPython.lib.display.IFrame at 0x1dc0a1541c0>"
      ]
     },
     "execution_count": 13,
     "metadata": {},
     "output_type": "execute_result"
    }
   ],
   "source": [
    "make_graph(read_matrix(\"incidence_matrix.txt\"), 0).show(\"basic.html\")"
   ]
  },
  {
   "cell_type": "code",
   "execution_count": 14,
   "metadata": {},
   "outputs": [
    {
     "data": {
      "text/html": [
       "\n",
       "        <iframe\n",
       "            width=\"500px\"\n",
       "            height=\"500px\"\n",
       "            src=\"basic.html\"\n",
       "            frameborder=\"0\"\n",
       "            allowfullscreen\n",
       "            \n",
       "        ></iframe>\n",
       "        "
      ],
      "text/plain": [
       "<IPython.lib.display.IFrame at 0x1dc0a16b520>"
      ]
     },
     "execution_count": 14,
     "metadata": {},
     "output_type": "execute_result"
    }
   ],
   "source": [
    "make_graph(read_matrix(\"adjacency_matrix.txt\"), 1).show(\"basic.html\")"
   ]
  },
  {
   "cell_type": "markdown",
   "metadata": {
    "id": "681a95mZnOSa"
   },
   "source": [
    "### Алгоритм Флойда-Уоршелла"
   ]
  },
  {
   "cell_type": "code",
   "execution_count": 15,
   "metadata": {},
   "outputs": [],
   "source": [
    "def floyd_warshall(G, start, end):\n",
    "    start -= 1\n",
    "    end -= 1\n",
    "    W = make_adjacency_matrix(G)\n",
    "    for i in range(len(W)):\n",
    "        for j in range(len(W[i])):\n",
    "            if W[i][j] == 0 and i != j:\n",
    "                W[i][j] = math.inf\n",
    "    n = len(W)\n",
    "    A = [[W[i][j] for i in range(n)] for j in range(n)] \n",
    "    V = [[math.inf for i in range(n)] for j in range(n)]\n",
    "    for k in range(n): \n",
    "        for i in range(n):\n",
    "            for j in range(n): \n",
    "                if A[i][j] > (A[i][k] + A[k][j]):\n",
    "                    A[i][j] = A[i][k] + A[k][j]\n",
    "                    V[i][j] = k+1\n",
    "    path = [end+1, V[start][end]]\n",
    "    if path[-1] != math.inf:\n",
    "        while end != start+1:\n",
    "            end = V[start][end]-1\n",
    "            path.append(end)\n",
    "    else:\n",
    "        path.pop()\n",
    "        path.append(start+1)\n",
    "    return path[::-1]"
   ]
  },
  {
   "cell_type": "code",
   "execution_count": 16,
   "metadata": {},
   "outputs": [
    {
     "name": "stdout",
     "output_type": "stream",
     "text": [
      "[1, 2, 3, 4, 6]\n"
     ]
    },
    {
     "data": {
      "text/html": [
       "\n",
       "        <iframe\n",
       "            width=\"500px\"\n",
       "            height=\"500px\"\n",
       "            src=\"basic.html\"\n",
       "            frameborder=\"0\"\n",
       "            allowfullscreen\n",
       "            \n",
       "        ></iframe>\n",
       "        "
      ],
      "text/plain": [
       "<IPython.lib.display.IFrame at 0x1dc077c86a0>"
      ]
     },
     "execution_count": 16,
     "metadata": {},
     "output_type": "execute_result"
    }
   ],
   "source": [
    "G = make_graph(read_matrix(\"adjacency_matrix.txt\"), 1)\n",
    "res = floyd_warshall(G, 1, 6)\n",
    "print(res)\n",
    "new_graph(G, res).show(\"basic.html\")"
   ]
  },
  {
   "cell_type": "markdown",
   "metadata": {},
   "source": [
    "### Оценка временной сложности"
   ]
  },
  {
   "cell_type": "code",
   "execution_count": 17,
   "metadata": {},
   "outputs": [
    {
     "name": "stdout",
     "output_type": "stream",
     "text": [
      " Алгоритм Флойда-Уоршелла:\n",
      "6 ребер: 1.0 миллисекунд\n",
      "7 ребер: 0.999 миллисекунд\n",
      "8 ребер: 0.998 миллисекунд\n"
     ]
    }
   ],
   "source": [
    "res = []\n",
    "for i in range(6,9):\n",
    "    m = read_matrix(\"adjacency_matrix_\"+str(i)+\".txt\")\n",
    "    G = make_graph(m, 1)\n",
    "    while True:\n",
    "        prev = time.time()\n",
    "        floyd_warshall(G, 1, i)\n",
    "        if time.time()-prev != 0:\n",
    "            break\n",
    "    res.append(str(i)+\" ребер: \"+str(round((time.time()-prev)*1000000)/1000)+\" миллисекунд\")\n",
    "print(\" Алгоритм Флойда-Уоршелла:\")\n",
    "for i in range(len(res)):\n",
    "    print(res[i])"
   ]
  },
  {
   "cell_type": "markdown",
   "metadata": {},
   "source": [
    "### Алгоритм Дейкстры"
   ]
  },
  {
   "cell_type": "code",
   "execution_count": 18,
   "metadata": {},
   "outputs": [],
   "source": [
    "def dijkstra(G, start, end):\n",
    "    start -= 1\n",
    "    end -= 1\n",
    "    w = make_adjacency_matrix(G)\n",
    "    for i in range(len(w)):\n",
    "        for j in range(len(w[i])):\n",
    "            if w[i][j] == 0 and i != j:\n",
    "                w[i][j] = math.inf\n",
    "    n = len(w)\n",
    "    dist = [math.inf] * n\n",
    "    dist[start] = 0\n",
    "    prev = [None] * n\n",
    "    used = [False] * n\n",
    "    min_dist = 0\n",
    "    min_vertex = start\n",
    "    while min_dist < math.inf:\n",
    "        i = min_vertex \n",
    "        used[i] = True \n",
    "        for j in range(n): \n",
    "            if dist[i] + w[j][i] < dist[j]: \n",
    "                dist[j] = dist[i] + w[j][i] \n",
    "                prev[j] = i+1\n",
    "        min_dist = math.inf\n",
    "        for j in range(n):\n",
    "            if not used[j] and dist[j] < min_dist:\n",
    "                min_dist = dist[j]\n",
    "                min_vertex = j\n",
    "    path = [end+1]\n",
    "    while end != start:\n",
    "        end = prev[end]-1\n",
    "        path.append(end+1)\n",
    "    return path[::-1]"
   ]
  },
  {
   "cell_type": "code",
   "execution_count": 19,
   "metadata": {},
   "outputs": [
    {
     "name": "stdout",
     "output_type": "stream",
     "text": [
      "[1, 2, 3, 4, 6]\n"
     ]
    },
    {
     "data": {
      "text/html": [
       "\n",
       "        <iframe\n",
       "            width=\"500px\"\n",
       "            height=\"500px\"\n",
       "            src=\"basic.html\"\n",
       "            frameborder=\"0\"\n",
       "            allowfullscreen\n",
       "            \n",
       "        ></iframe>\n",
       "        "
      ],
      "text/plain": [
       "<IPython.lib.display.IFrame at 0x1dc0a16b370>"
      ]
     },
     "execution_count": 19,
     "metadata": {},
     "output_type": "execute_result"
    }
   ],
   "source": [
    "G = make_graph(read_matrix(\"adjacency_matrix.txt\"), 1)\n",
    "res = dijkstra(G, 1, 6)\n",
    "print(res)\n",
    "new_graph(G, res).show(\"basic.html\")"
   ]
  },
  {
   "cell_type": "markdown",
   "metadata": {},
   "source": [
    "### Оценка временной сложности"
   ]
  },
  {
   "cell_type": "code",
   "execution_count": 20,
   "metadata": {},
   "outputs": [
    {
     "name": "stdout",
     "output_type": "stream",
     "text": [
      " Алгоритм Дейкстры:\n",
      "6 ребер: 0.999 миллисекунд\n",
      "7 ребер: 0.997 миллисекунд\n",
      "8 ребер: 0.998 миллисекунд\n"
     ]
    }
   ],
   "source": [
    "res = []\n",
    "for i in range(6,9):\n",
    "    m = read_matrix(\"adjacency_matrix_\"+str(i)+\".txt\")\n",
    "    G = make_graph(m, 1)\n",
    "    while True:\n",
    "        prev = time.time()\n",
    "        dijkstra(G, 1, i)\n",
    "        if time.time()-prev != 0:\n",
    "            break\n",
    "    res.append(str(i)+\" ребер: \"+str(round((time.time()-prev)*1000000)/1000)+\" миллисекунд\")\n",
    "print(\" Алгоритм Дейкстры:\")\n",
    "for i in range(len(res)):\n",
    "    print(res[i])"
   ]
  },
  {
   "cell_type": "markdown",
   "metadata": {},
   "source": [
    "### Алгоритм Беллмана-Форда"
   ]
  },
  {
   "cell_type": "code",
   "execution_count": 21,
   "metadata": {},
   "outputs": [],
   "source": [
    "def bellman_ford(G, start, end):\n",
    "    start -= 1\n",
    "    end -= 1\n",
    "    W = make_adjacency_matrix(G)\n",
    "    for i in range(len(W)):\n",
    "        for j in range(len(W[i])):\n",
    "            if W[i][j] == 0 and i != j:\n",
    "                W[i][j] = math.inf\n",
    "    N = len(W)\n",
    "    F = [[math.inf] * N for i in range(N)]\n",
    "    V = [[math.inf] * N for i in range(N)]\n",
    "    F[0][start] = 0 \n",
    "    for k in range(1, N): \n",
    "        for i in range(N): \n",
    "            F[k][i] = F[k - 1][i]\n",
    "            for j in range(N):\n",
    "                if F[k - 1][j] + W[i][j] < F[k][i]:\n",
    "                    F[k][i] = F[k - 1][j] + W[i][j]\n",
    "                    V[k][i] = j+1\n",
    "    for i in range(max(len(F), len(V))-1, 0, -1):\n",
    "        if F[i] == F[i-1]:\n",
    "            F.pop(i)\n",
    "        if V[i] == V[i-1]:\n",
    "            V.pop(i)\n",
    "    V.pop()\n",
    "    P = [end+1]\n",
    "    for i in range(len(V)):\n",
    "        if V[i][end] != math.inf:\n",
    "            x = i\n",
    "            break\n",
    "    while end != start+1:\n",
    "        end = V[x][P[-1]-1]\n",
    "        x -= 1\n",
    "        P.append(end)\n",
    "    if len(P) == 1:\n",
    "        P.append(start+1)\n",
    "    return P[::-1]"
   ]
  },
  {
   "cell_type": "code",
   "execution_count": 22,
   "metadata": {},
   "outputs": [
    {
     "name": "stdout",
     "output_type": "stream",
     "text": [
      "[1, 2, 3, 4, 6]\n"
     ]
    },
    {
     "data": {
      "text/html": [
       "\n",
       "        <iframe\n",
       "            width=\"500px\"\n",
       "            height=\"500px\"\n",
       "            src=\"basic.html\"\n",
       "            frameborder=\"0\"\n",
       "            allowfullscreen\n",
       "            \n",
       "        ></iframe>\n",
       "        "
      ],
      "text/plain": [
       "<IPython.lib.display.IFrame at 0x1dc0a1351f0>"
      ]
     },
     "execution_count": 22,
     "metadata": {},
     "output_type": "execute_result"
    }
   ],
   "source": [
    "G = make_graph(read_matrix(\"adjacency_matrix.txt\"), 1)\n",
    "res = bellman_ford(G, 1, 6)\n",
    "print(res)\n",
    "new_graph(G, res).show(\"basic.html\")"
   ]
  },
  {
   "cell_type": "markdown",
   "metadata": {},
   "source": [
    "### Оценка временной сложности"
   ]
  },
  {
   "cell_type": "code",
   "execution_count": 23,
   "metadata": {},
   "outputs": [
    {
     "name": "stdout",
     "output_type": "stream",
     "text": [
      " Алгоритм Беллмана-Форда:\n",
      "6 ребер: 0.999 миллисекунд\n",
      "7 ребер: 0.999 миллисекунд\n",
      "8 ребер: 1.0 миллисекунд\n"
     ]
    }
   ],
   "source": [
    "res = []\n",
    "for i in range(6,9):\n",
    "    m = read_matrix(\"adjacency_matrix_\"+str(i)+\".txt\")\n",
    "    G = make_graph(m, 1)\n",
    "    while True:\n",
    "        prev = time.time()\n",
    "        bellman_ford(G, 1, i)\n",
    "        if time.time()-prev != 0:\n",
    "            break\n",
    "    res.append(str(i)+\" ребер: \"+str(round((time.time()-prev)*1000000)/1000)+\" миллисекунд\")\n",
    "print(\" Алгоритм Беллмана-Форда:\")\n",
    "for i in range(len(res)):\n",
    "    print(res[i])"
   ]
  },
  {
   "cell_type": "markdown",
   "metadata": {},
   "source": [
    "### Алгоритм Джонсона"
   ]
  },
  {
   "cell_type": "code",
   "execution_count": 24,
   "metadata": {
    "scrolled": false
   },
   "outputs": [],
   "source": [
    "def bellman_ford_len(W, start, end):\n",
    "    N = len(W)\n",
    "    F = [[math.inf] * N for i in range(N)]\n",
    "    F[0][start-1] = 0 \n",
    "    for k in range(1, N): \n",
    "        for i in range(N): \n",
    "            F[k][i] = F[k - 1][i]\n",
    "            for j in range(N):\n",
    "                if F[k - 1][j] + W[i][j] < F[k][i]:\n",
    "                    F[k][i] = F[k - 1][j] + W[i][j]\n",
    "    return F[-1][end-1]"
   ]
  },
  {
   "cell_type": "code",
   "execution_count": 25,
   "metadata": {},
   "outputs": [],
   "source": [
    "def johnson(G, start, end):\n",
    "    D = make_adjacency_matrix(G)\n",
    "    for i in range(len(D)):\n",
    "            for j in range(len(D[i])):\n",
    "                if D[i][j] == 0 and i != j:\n",
    "                    D[i][j] = math.inf\n",
    "    negatives = 0\n",
    "    for i in range(len(D)):\n",
    "        for j in range(len(D[i])):\n",
    "            if D[i][j] < 0:\n",
    "                negatives = 1\n",
    "                break\n",
    "    if negatives != 0:\n",
    "        D.append([math.inf for i in range(len(D))])\n",
    "        for i in range(len(D)):\n",
    "            D[i].append(0)\n",
    "        nodes = []\n",
    "        for i in range(len(G.nodes)):\n",
    "            nodes.append(list(G.nodes)[i]['id'])\n",
    "        nodes.sort()\n",
    "        lens = []\n",
    "        for i in range(len(nodes)):\n",
    "            lens.append(bellman_ford_len(D, len(D), nodes[i]))\n",
    "        for i in range(len(D)):\n",
    "            D[i].pop()\n",
    "        D.pop()\n",
    "        for i in range(len(D)):\n",
    "            for j in range(len(D[i])):\n",
    "                if D[i][j] != 0 and D[i][j] != math.inf:\n",
    "                    D[i][j] = D[i][j] + lens[j] - lens[i]\n",
    "        for i in range(len(D)):\n",
    "            for j in range(len(D[i])):\n",
    "                if D[i][j] != math.inf and i != j:\n",
    "                    D[i][j] += 1\n",
    "    G = make_graph(D, 1)\n",
    "    res = dijkstra(G, start, end)\n",
    "    return res"
   ]
  },
  {
   "cell_type": "code",
   "execution_count": 26,
   "metadata": {},
   "outputs": [
    {
     "name": "stdout",
     "output_type": "stream",
     "text": [
      "[1, 2, 3, 4, 6]\n"
     ]
    },
    {
     "data": {
      "text/html": [
       "\n",
       "        <iframe\n",
       "            width=\"500px\"\n",
       "            height=\"500px\"\n",
       "            src=\"basic.html\"\n",
       "            frameborder=\"0\"\n",
       "            allowfullscreen\n",
       "            \n",
       "        ></iframe>\n",
       "        "
      ],
      "text/plain": [
       "<IPython.lib.display.IFrame at 0x1dc0a16baf0>"
      ]
     },
     "execution_count": 26,
     "metadata": {},
     "output_type": "execute_result"
    }
   ],
   "source": [
    "G = make_graph(read_matrix(\"adjacency_matrix_neg.txt\"), 1)\n",
    "res = johnson(G, 1, 6)\n",
    "print(res)\n",
    "new_graph(G, res).show(\"basic.html\")"
   ]
  },
  {
   "cell_type": "markdown",
   "metadata": {},
   "source": [
    "### Оценка временной сложности"
   ]
  },
  {
   "cell_type": "code",
   "execution_count": 27,
   "metadata": {},
   "outputs": [
    {
     "name": "stdout",
     "output_type": "stream",
     "text": [
      " Алгоритм Джонсона:\n",
      "6 ребер: 20.982 миллисекунд\n",
      "7 ребер: 16.989 миллисекунд\n",
      "8 ребер: 13.991 миллисекунд\n"
     ]
    }
   ],
   "source": [
    "res = []\n",
    "for i in range(6,9):\n",
    "    m = read_matrix(\"adjacency_matrix_\"+str(i)+\".txt\")\n",
    "    G = make_graph(m, 1)\n",
    "    while True:\n",
    "        prev = time.time()\n",
    "        johnson(G, 1, i)\n",
    "        if time.time()-prev != 0:\n",
    "            break\n",
    "    res.append(str(i)+\" ребер: \"+str(round((time.time()-prev)*1000000)/1000)+\" миллисекунд\")\n",
    "print(\" Алгоритм Джонсона:\")\n",
    "for i in range(len(res)):\n",
    "    print(res[i])"
   ]
  },
  {
   "cell_type": "markdown",
   "metadata": {},
   "source": [
    "### Алгоритм Левита"
   ]
  },
  {
   "cell_type": "code",
   "execution_count": 28,
   "metadata": {},
   "outputs": [],
   "source": [
    "def levit(G, start, end):\n",
    "    start -= 1\n",
    "    end -= 1\n",
    "    N = len(G.nodes)\n",
    "    D = [math.inf for i in range(N)]\n",
    "    D[start] = 0\n",
    "    cache = deque([start])\n",
    "    state = [2 for i in range(N)]\n",
    "    state[start] = 1\n",
    "    P = [-1 for i in range(N)]\n",
    "    while cache:\n",
    "        vertex = cache.popleft()\n",
    "        state[vertex] = 0\n",
    "        for i in range(len(G.neighbors(vertex+1))):\n",
    "            neigh = list(G.neighbors(vertex+1))[i]-1\n",
    "            for j in range(len(G.edges)):\n",
    "                if list(G.edges)[j]['from'] == vertex+1 and list(G.edges)[j]['to'] == neigh+1:\n",
    "                    weight = G.edges[j]['weight']\n",
    "            if D[vertex] + weight < D[neigh]:\n",
    "                D[neigh] = D[vertex] + weight\n",
    "                if state[neigh] == 2:\n",
    "                    cache.append(neigh)\n",
    "                if state[neigh] == 0:\n",
    "                    cache.appendleft(neigh)\n",
    "                P[neigh] = vertex\n",
    "                state[neigh] = 1\n",
    "    path = []\n",
    "    vertex = end\n",
    "    while vertex != -1:\n",
    "        path.append(vertex+1)\n",
    "        vertex = P[vertex]\n",
    "    return path[::-1]"
   ]
  },
  {
   "cell_type": "code",
   "execution_count": 29,
   "metadata": {},
   "outputs": [
    {
     "name": "stdout",
     "output_type": "stream",
     "text": [
      "[1, 2, 3, 4, 6]\n"
     ]
    },
    {
     "data": {
      "text/html": [
       "\n",
       "        <iframe\n",
       "            width=\"500px\"\n",
       "            height=\"500px\"\n",
       "            src=\"basic.html\"\n",
       "            frameborder=\"0\"\n",
       "            allowfullscreen\n",
       "            \n",
       "        ></iframe>\n",
       "        "
      ],
      "text/plain": [
       "<IPython.lib.display.IFrame at 0x1dc0a145d00>"
      ]
     },
     "execution_count": 29,
     "metadata": {},
     "output_type": "execute_result"
    }
   ],
   "source": [
    "G = make_graph(read_matrix(\"adjacency_matrix.txt\"), 1)\n",
    "res = levit(G, 1, 6)\n",
    "print(res)\n",
    "new_graph(G, res).show(\"basic.html\")"
   ]
  },
  {
   "cell_type": "markdown",
   "metadata": {},
   "source": [
    "### Оценка временной сложности"
   ]
  },
  {
   "cell_type": "code",
   "execution_count": 30,
   "metadata": {},
   "outputs": [
    {
     "name": "stdout",
     "output_type": "stream",
     "text": [
      " Алгоритм Левита:\n",
      "6 ребер: 0.996 миллисекунд\n",
      "7 ребер: 0.999 миллисекунд\n",
      "8 ребер: 0.999 миллисекунд\n"
     ]
    }
   ],
   "source": [
    "res = []\n",
    "for i in range(6,9):\n",
    "    m = read_matrix(\"adjacency_matrix_\"+str(i)+\".txt\")\n",
    "    G = make_graph(m, 1)\n",
    "    while True:\n",
    "        prev = time.time()\n",
    "        levit(G, 1, i)\n",
    "        if time.time()-prev != 0:\n",
    "            break\n",
    "    res.append(str(i)+\" ребер: \"+str(round((time.time()-prev)*1000000)/1000)+\" миллисекунд\")\n",
    "print(\" Алгоритм Левита:\")\n",
    "for i in range(len(res)):\n",
    "    print(res[i])"
   ]
  },
  {
   "cell_type": "markdown",
   "metadata": {},
   "source": [
    "### Алгоритм Йена"
   ]
  },
  {
   "cell_type": "code",
   "execution_count": 31,
   "metadata": {},
   "outputs": [],
   "source": [
    "def yen(G, start, end, total_paths = 3):\n",
    "    start -= 1\n",
    "    end -= 1\n",
    "    paths = [[] for i in range(total_paths)]\n",
    "    paths[0] = dijkstra(G, start+1, end+1)\n",
    "    for i in range(1,len(paths)):\n",
    "        edges = []\n",
    "        for j in range(len(G.edges)):\n",
    "            edges.append([list(G.edges)[j]['from'], list(G.edges)[j]['to']])\n",
    "        length = 0\n",
    "        for j in range(len(G.edges)):\n",
    "            if list(G.edges)[j]['from'] == paths[i-1][0] and list(G.edges)[j]['to'] == paths[i-1][1]:\n",
    "                length = list(G.edges)[j]['weight']\n",
    "        G = remove_edge(G, [paths[i-1][0], paths[i-1][1]])\n",
    "        paths[i] = dijkstra(G, start+1, end+1)\n",
    "        G.add_edge(paths[i-1][0], paths[i-1][1], weight=length)\n",
    "    return paths"
   ]
  },
  {
   "cell_type": "code",
   "execution_count": 32,
   "metadata": {},
   "outputs": [
    {
     "name": "stdout",
     "output_type": "stream",
     "text": [
      "[[1, 5, 4, 6], [1, 2, 5, 4, 6], [1, 5, 4, 6]]\n"
     ]
    },
    {
     "data": {
      "text/html": [
       "\n",
       "        <iframe\n",
       "            width=\"500px\"\n",
       "            height=\"500px\"\n",
       "            src=\"basic.html\"\n",
       "            frameborder=\"0\"\n",
       "            allowfullscreen\n",
       "            \n",
       "        ></iframe>\n",
       "        "
      ],
      "text/plain": [
       "<IPython.lib.display.IFrame at 0x1dc0a154dc0>"
      ]
     },
     "execution_count": 32,
     "metadata": {},
     "output_type": "execute_result"
    }
   ],
   "source": [
    "G = make_graph(read_matrix(\"adjacency_matrix_yen.txt\"), 1)\n",
    "res = yen(G, 1, 6)\n",
    "print(res)\n",
    "new_graph(G, res[1]).show(\"basic.html\")"
   ]
  },
  {
   "cell_type": "markdown",
   "metadata": {},
   "source": [
    "### Оценка временной сложности"
   ]
  },
  {
   "cell_type": "code",
   "execution_count": 33,
   "metadata": {},
   "outputs": [
    {
     "name": "stdout",
     "output_type": "stream",
     "text": [
      " Алгоритм Йена:\n",
      "6 ребер: 0.998 миллисекунд\n",
      "7 ребер: 0.997 миллисекунд\n",
      "8 ребер: 1.0 миллисекунд\n"
     ]
    }
   ],
   "source": [
    "res = []\n",
    "for i in range(6,9):\n",
    "    m = read_matrix(\"adjacency_matrix_\"+str(i)+\".txt\")\n",
    "    G = make_graph(m, 1)\n",
    "    while True:\n",
    "        prev = time.time()\n",
    "        yen(G, 1, i, 1)\n",
    "        if time.time()-prev != 0:\n",
    "            break\n",
    "    res.append(str(i)+\" ребер: \"+str(round((time.time()-prev)*1000000)/1000)+\" миллисекунд\")\n",
    "print(\" Алгоритм Йена:\")\n",
    "for i in range(len(res)):\n",
    "    print(res[i])"
   ]
  },
  {
   "cell_type": "markdown",
   "metadata": {
    "id": "diOb-K7LnO5a"
   },
   "source": [
    "### Вывод"
   ]
  },
  {
   "cell_type": "markdown",
   "metadata": {},
   "source": [
    "В ходе данной лабораторной работы были реализованы алгоритмы нахождения кратчайшего пути на графе и определены зависимости времени исполнения алгоритма от числа узлов и ребер графа:"
   ]
  },
  {
   "cell_type": "code",
   "execution_count": 34,
   "metadata": {},
   "outputs": [
    {
     "name": "stdout",
     "output_type": "stream",
     "text": [
      "          Алгоритм         Сложность\n",
      "0  Флойда-Уоршелла               o^3\n",
      "1         Дейкстры               o^2\n",
      "2   Беллмана-Форда       nodes*edges\n",
      "3         Джонсона  nodes*edges*logV\n",
      "4           Левита       nodes*edges\n",
      "5             Йена               o^2\n"
     ]
    }
   ],
   "source": [
    "print(pd.DataFrame({\"Алгоритм\": [\"Флойда-Уоршелла\", \"Дейкстры\", \"Беллмана-Форда\", \"Джонсона\", \"Левита\", \"Йена\"], \"Сложность\": [\"o^3\", \"o^2\", \"nodes*edges\", \"nodes*edges*logV\", \"nodes*edges\", \"o^2\"]}))"
   ]
  }
 ],
 "metadata": {
  "colab": {
   "name": "Lab6.ipynb",
   "provenance": []
  },
  "kernelspec": {
   "display_name": "Python 3 (ipykernel)",
   "language": "python",
   "name": "python3"
  },
  "language_info": {
   "codemirror_mode": {
    "name": "ipython",
    "version": 3
   },
   "file_extension": ".py",
   "mimetype": "text/x-python",
   "name": "python",
   "nbconvert_exporter": "python",
   "pygments_lexer": "ipython3",
   "version": "3.9.7"
  }
 },
 "nbformat": 4,
 "nbformat_minor": 1
}
