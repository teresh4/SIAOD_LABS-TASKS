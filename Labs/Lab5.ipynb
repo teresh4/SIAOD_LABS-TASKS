{
 "cells": [
  {
   "cell_type": "markdown",
   "metadata": {
    "id": "WPvB9TcMmKA6"
   },
   "source": [
    "# Лабораторная работа №5\n",
    "# Рекурсия. Фракталы."
   ]
  },
  {
   "cell_type": "markdown",
   "metadata": {
    "id": "96Gi_LEvmSVH"
   },
   "source": [
    "## Выполнил студент группы БВТ2002 Терешонок Арсений Алексеевич"
   ]
  },
  {
   "cell_type": "markdown",
   "metadata": {
    "id": "4clYOyb0mbEv"
   },
   "source": [
    "### Задание:\n",
    "Реализовать генерацию заданного типа фрактала с применением рекурсивных функций.\n",
    "\n",
    "\n",
    "Добавить возможность задания глубины фрактала. \n",
    "\n",
    "\n",
    "Оценить глубину рекурсии. \n",
    "\n",
    "\n",
    "Построить таблицу зависимости времени построения от глубины фрактала."
   ]
  },
  {
   "cell_type": "markdown",
   "metadata": {
    "id": "wDXHbUmMmhRL"
   },
   "source": [
    "### Список фракталов:\n",
    "\n",
    "Кривая Коха\n",
    "| Кривая Гильберта\n",
    "| Кривая Серпинского\n",
    "| Салфетка Серпинского\n",
    "| Ковер Серпинского\n",
    "| Дерево Пифагора "
   ]
  },
  {
   "cell_type": "markdown",
   "metadata": {
    "id": "Wggfn8l7nG72"
   },
   "source": [
    "### Выполнение:"
   ]
  },
  {
   "cell_type": "code",
   "execution_count": 9,
   "metadata": {},
   "outputs": [],
   "source": [
    "import turtle\n",
    "import time\n",
    "import pandas as pd"
   ]
  },
  {
   "cell_type": "markdown",
   "metadata": {
    "id": "wDXHbUmMmhRL"
   },
   "source": [
    "### Кривая Коха"
   ]
  },
  {
   "cell_type": "code",
   "execution_count": 10,
   "metadata": {
    "id": "681a95mZnOSa"
   },
   "outputs": [],
   "source": [
    "def Koch_Line(x):\n",
    "    t = turtle.Turtle()\n",
    "    t.penup()\n",
    "    t.goto(-380, 0)\n",
    "    t.pendown()\n",
    "    t.speed(400)\n",
    "    def fractal(n, l = 800):\n",
    "        if n == 0:\n",
    "            t.forward(l)\n",
    "            return\n",
    "        l //= 3\n",
    "        fractal(n-1, l)\n",
    "        t.left(60)\n",
    "        fractal(n-1, l)\n",
    "        t.right(120)\n",
    "        fractal(n-1, l)\n",
    "        t.left(60)\n",
    "        fractal(n-1, l)\n",
    "    fractal(x)\n",
    "    t.hideturtle()\n",
    "Koch_Line(4)\n",
    "turtle.Screen().exitonclick()\n",
    "turtle.TurtleScreen._RUNNING = True"
   ]
  },
  {
   "cell_type": "markdown",
   "metadata": {},
   "source": [
    "Подсчет времени"
   ]
  },
  {
   "cell_type": "code",
   "execution_count": 11,
   "metadata": {},
   "outputs": [],
   "source": [
    "times = []\n",
    "for i in range(5):\n",
    "    prev = time.time()\n",
    "    Koch_Line(i)\n",
    "    times.append(str(round((time.time()-prev)*1000)/1000))\n",
    "turtle.Screen().exitonclick()\n",
    "turtle.TurtleScreen._RUNNING = True"
   ]
  },
  {
   "cell_type": "markdown",
   "metadata": {},
   "source": [
    "Таблица"
   ]
  },
  {
   "cell_type": "code",
   "execution_count": 12,
   "metadata": {},
   "outputs": [
    {
     "name": "stdout",
     "output_type": "stream",
     "text": [
      "   Глубина  Время\n",
      "0        1   0.71\n",
      "1        2  0.566\n",
      "2        3    0.9\n",
      "3        4  2.252\n",
      "4        5  8.743\n"
     ]
    }
   ],
   "source": [
    "print(pd.DataFrame({\"Глубина\": [1, 2, 3, 4, 5], \"Время\": times}))"
   ]
  },
  {
   "cell_type": "markdown",
   "metadata": {},
   "source": [
    "### Кривая Гильберта"
   ]
  },
  {
   "cell_type": "code",
   "execution_count": 13,
   "metadata": {},
   "outputs": [],
   "source": [
    "def Hilbert(x):\n",
    "    turtle.penup()\n",
    "    turtle.goto(-350, 300)\n",
    "    turtle.pendown()\n",
    "    def fractal(level, angle = 90):\n",
    "        if level == 0:\n",
    "            return\n",
    "        turtle.speed(400)\n",
    "        turtle.right(angle)\n",
    "        fractal(level - 1, -angle)\n",
    "        turtle.forward(30)\n",
    "        turtle.left(angle)\n",
    "        fractal(level - 1, angle)\n",
    "        turtle.forward(30)\n",
    "        fractal(level - 1, angle)\n",
    "        turtle.left(angle)\n",
    "        turtle.forward(30)\n",
    "        fractal(level - 1, -angle)\n",
    "        turtle.right(angle)\n",
    "        turtle.hideturtle()\n",
    "    fractal(x)\n",
    "Hilbert(4)\n",
    "turtle.Screen().exitonclick()\n",
    "turtle.TurtleScreen._RUNNING = True"
   ]
  },
  {
   "cell_type": "markdown",
   "metadata": {},
   "source": [
    "Подсчет времени"
   ]
  },
  {
   "cell_type": "code",
   "execution_count": 14,
   "metadata": {},
   "outputs": [],
   "source": [
    "times = []\n",
    "for i in range(5):\n",
    "    prev = time.time()\n",
    "    Hilbert(i)\n",
    "    times.append(str(round((time.time()-prev)*1000)/1000))\n",
    "turtle.Screen().exitonclick()\n",
    "turtle.TurtleScreen._RUNNING = True"
   ]
  },
  {
   "cell_type": "markdown",
   "metadata": {},
   "source": [
    "Таблица"
   ]
  },
  {
   "cell_type": "code",
   "execution_count": 15,
   "metadata": {},
   "outputs": [
    {
     "name": "stdout",
     "output_type": "stream",
     "text": [
      "   Глубина  Время\n",
      "0        1  0.757\n",
      "1        2  0.151\n",
      "2        3  0.593\n",
      "3        4   2.39\n",
      "4        5   9.84\n"
     ]
    }
   ],
   "source": [
    "print(pd.DataFrame({\"Глубина\": [1, 2, 3, 4, 5], \"Время\": times}))"
   ]
  },
  {
   "cell_type": "markdown",
   "metadata": {},
   "source": [
    "### Кривая Серпинского"
   ]
  },
  {
   "cell_type": "code",
   "execution_count": 16,
   "metadata": {},
   "outputs": [],
   "source": [
    "def Sierpinski_Line(x):\n",
    "    turtle.penup()\n",
    "    turtle.goto(-230, 0)\n",
    "    turtle.pendown()\n",
    "    turtle.speed(400)\n",
    "    turtle.hideturtle()\n",
    "    def half_Sierpinski_Line(level):\n",
    "        if level == 0:\n",
    "            return\n",
    "        half_Sierpinski_Line(level-1)\n",
    "        turtle.left(45)\n",
    "        turtle.forward(5)\n",
    "        turtle.left(45)\n",
    "        half_Sierpinski_Line(level-1)\n",
    "        turtle.right(90)\n",
    "        turtle.forward(25)\n",
    "        turtle.right(90)\n",
    "        half_Sierpinski_Line(level-1)\n",
    "        turtle.left(45)\n",
    "        turtle.forward(5)\n",
    "        turtle.left(45)\n",
    "        half_Sierpinski_Line(level-1)\n",
    "    half_Sierpinski_Line(x)\n",
    "    turtle.right(90)\n",
    "    turtle.forward(25)\n",
    "    turtle.right(90)\n",
    "    half_Sierpinski_Line(x)\n",
    "    turtle.right(90)\n",
    "    turtle.forward(25)\n",
    "    turtle.right(90)\n",
    "Sierpinski_Line(4)\n",
    "turtle.Screen().exitonclick()\n",
    "turtle.TurtleScreen._RUNNING = True"
   ]
  },
  {
   "cell_type": "markdown",
   "metadata": {},
   "source": [
    "Подсчет времени"
   ]
  },
  {
   "cell_type": "code",
   "execution_count": 17,
   "metadata": {},
   "outputs": [],
   "source": [
    "times = []\n",
    "for i in range(5):\n",
    "    prev = time.time()\n",
    "    Sierpinski_Line(i)\n",
    "    times.append(str(round((time.time()-prev)*1000)/1000))\n",
    "turtle.Screen().exitonclick()\n",
    "turtle.TurtleScreen._RUNNING = True"
   ]
  },
  {
   "cell_type": "markdown",
   "metadata": {},
   "source": [
    "Таблица"
   ]
  },
  {
   "cell_type": "code",
   "execution_count": 18,
   "metadata": {},
   "outputs": [
    {
     "name": "stdout",
     "output_type": "stream",
     "text": [
      "   Глубина  Время\n",
      "0        1   0.61\n",
      "1        2  0.381\n",
      "2        3  1.407\n",
      "3        4  5.066\n",
      "4        5  20.05\n"
     ]
    }
   ],
   "source": [
    "print(pd.DataFrame({\"Глубина\": [1, 2, 3, 4, 5], \"Время\": times}))"
   ]
  },
  {
   "cell_type": "markdown",
   "metadata": {},
   "source": [
    "### Салфетка Серпинского"
   ]
  },
  {
   "cell_type": "code",
   "execution_count": 19,
   "metadata": {},
   "outputs": [],
   "source": [
    "def Sierpinski_Triangle(x):\n",
    "    turtle.hideturtle()\n",
    "    turtle.speed(400)\n",
    "    def triangle(depth, size = 200):\n",
    "        if depth >= 0:\n",
    "            triangle(depth-1, size/2)\n",
    "            turtle.forward(size/2)\n",
    "            triangle(depth-1, size/2)\n",
    "            turtle.forward(size/2)\n",
    "            turtle.left(120)\n",
    "            turtle.forward(size/2)\n",
    "            triangle(depth-1, size/2)\n",
    "            turtle.forward(size/2)\n",
    "            turtle.left(120)\n",
    "            turtle.forward(size)\n",
    "            turtle.left(120)\n",
    "    triangle(x)\n",
    "Sierpinski_Triangle(4)\n",
    "turtle.Screen().exitonclick()\n",
    "turtle.TurtleScreen._RUNNING = True"
   ]
  },
  {
   "cell_type": "markdown",
   "metadata": {},
   "source": [
    "Подсчет времени"
   ]
  },
  {
   "cell_type": "code",
   "execution_count": 20,
   "metadata": {},
   "outputs": [],
   "source": [
    "times = []\n",
    "for i in range(5):\n",
    "    prev = time.time()\n",
    "    Sierpinski_Triangle(i)\n",
    "    times.append(str(round((time.time()-prev)*1000)/1000))\n",
    "turtle.Screen().exitonclick()\n",
    "turtle.TurtleScreen._RUNNING = True"
   ]
  },
  {
   "cell_type": "markdown",
   "metadata": {},
   "source": [
    "Таблица"
   ]
  },
  {
   "cell_type": "code",
   "execution_count": 21,
   "metadata": {},
   "outputs": [
    {
     "name": "stdout",
     "output_type": "stream",
     "text": [
      "   Глубина   Время\n",
      "0        1   0.405\n",
      "1        2   0.434\n",
      "2        3   1.332\n",
      "3        4   4.323\n",
      "4        5  13.869\n"
     ]
    }
   ],
   "source": [
    "print(pd.DataFrame({\"Глубина\": [1, 2, 3, 4, 5], \"Время\": times}))"
   ]
  },
  {
   "cell_type": "markdown",
   "metadata": {},
   "source": [
    "### Ковер Серпинского"
   ]
  },
  {
   "cell_type": "code",
   "execution_count": 22,
   "metadata": {},
   "outputs": [],
   "source": [
    "def Sierpinski_Carpet(x):\n",
    "    turtle.penup()\n",
    "    turtle.goto(-200, -200)\n",
    "    turtle.pendown()\n",
    "    turtle.tracer(10)\n",
    "    turtle.speed(400)\n",
    "    turtle.hideturtle()\n",
    "    def carpet(n, m = 400):\n",
    "        if n == 0:\n",
    "            turtle.begin_fill()\n",
    "            for i in range(4):\n",
    "                turtle.forward(m)\n",
    "                turtle.left(90)\n",
    "                turtle.end_fill()\n",
    "        else:\n",
    "            for i in range(4):\n",
    "                carpet(n - 1, m / 3)\n",
    "                turtle.forward(m / 3)\n",
    "                carpet(n - 1, m / 3)\n",
    "                turtle.forward(m / 3)\n",
    "                turtle.forward(m / 3)\n",
    "                turtle.left(90)\n",
    "    carpet(x)\n",
    "Sierpinski_Carpet(4)\n",
    "turtle.Screen().exitonclick()\n",
    "turtle.TurtleScreen._RUNNING = True"
   ]
  },
  {
   "cell_type": "markdown",
   "metadata": {},
   "source": [
    "Подсчет времени"
   ]
  },
  {
   "cell_type": "code",
   "execution_count": 23,
   "metadata": {},
   "outputs": [],
   "source": [
    "times = []\n",
    "for i in range(5):\n",
    "    prev = time.time()\n",
    "    Sierpinski_Carpet(i)\n",
    "    times.append(str(round((time.time()-prev)*1000)/1000))\n",
    "turtle.Screen().exitonclick()\n",
    "turtle.TurtleScreen._RUNNING = True"
   ]
  },
  {
   "cell_type": "markdown",
   "metadata": {},
   "source": [
    "Таблица"
   ]
  },
  {
   "cell_type": "code",
   "execution_count": 24,
   "metadata": {},
   "outputs": [
    {
     "name": "stdout",
     "output_type": "stream",
     "text": [
      "   Глубина    Время\n",
      "0        1    0.677\n",
      "1        2    0.106\n",
      "2        3    0.393\n",
      "3        4    4.238\n",
      "4        5  111.247\n"
     ]
    }
   ],
   "source": [
    "print(pd.DataFrame({\"Глубина\": [1, 2, 3, 4, 5], \"Время\": times}))"
   ]
  },
  {
   "cell_type": "markdown",
   "metadata": {},
   "source": [
    "### Дерево Пифагора"
   ]
  },
  {
   "cell_type": "code",
   "execution_count": 25,
   "metadata": {},
   "outputs": [],
   "source": [
    "def Piphagor_Tree(depth):\n",
    "    def fractal(depth, size = 100):\n",
    "        if depth > 0:\n",
    "            turtle.forward(size)\n",
    "            turtle.right(30)\n",
    "            fractal(depth-1, 0.8*size)\n",
    "            turtle.left(2 * 30)\n",
    "            fractal(depth-1, 0.8*size)\n",
    "            turtle.right(30)\n",
    "            turtle.forward(-size)\n",
    "    turtle.speed(400)\n",
    "    turtle.hideturtle()\n",
    "    turtle.right(-90)\n",
    "    fractal(depth, 100)\n",
    "Piphagor_Tree(7)\n",
    "turtle.Screen().exitonclick()\n",
    "turtle.TurtleScreen._RUNNING = True"
   ]
  },
  {
   "cell_type": "markdown",
   "metadata": {},
   "source": [
    "Подсчет времени"
   ]
  },
  {
   "cell_type": "code",
   "execution_count": 26,
   "metadata": {},
   "outputs": [],
   "source": [
    "times = []\n",
    "for i in range(5):\n",
    "    prev = time.time()\n",
    "    Piphagor_Tree(i)\n",
    "    times.append(str(round((time.time()-prev)*1000)/1000))\n",
    "turtle.Screen().exitonclick()\n",
    "turtle.TurtleScreen._RUNNING = True"
   ]
  },
  {
   "cell_type": "markdown",
   "metadata": {},
   "source": [
    "Таблица"
   ]
  },
  {
   "cell_type": "code",
   "execution_count": 27,
   "metadata": {},
   "outputs": [
    {
     "name": "stdout",
     "output_type": "stream",
     "text": [
      "   Глубина  Время\n",
      "0        1  0.286\n",
      "1        2  0.102\n",
      "2        3  0.242\n",
      "3        4  0.467\n",
      "4        5  0.981\n"
     ]
    }
   ],
   "source": [
    "print(pd.DataFrame({\"Глубина\": [1, 2, 3, 4, 5], \"Время\": times}))"
   ]
  },
  {
   "cell_type": "markdown",
   "metadata": {
    "id": "diOb-K7LnO5a"
   },
   "source": [
    "### Вывод"
   ]
  },
  {
   "cell_type": "markdown",
   "metadata": {},
   "source": [
    "Так как функции генерации фракталов являются рекурсивными, то временная сложность алгоритмов - квадратичная"
   ]
  }
 ],
 "metadata": {
  "colab": {
   "collapsed_sections": [],
   "name": "Lab5.ipynb",
   "provenance": []
  },
  "kernelspec": {
   "display_name": "Python 3 (ipykernel)",
   "language": "python",
   "name": "python3"
  },
  "language_info": {
   "codemirror_mode": {
    "name": "ipython",
    "version": 3
   },
   "file_extension": ".py",
   "mimetype": "text/x-python",
   "name": "python",
   "nbconvert_exporter": "python",
   "pygments_lexer": "ipython3",
   "version": "3.9.7"
  }
 },
 "nbformat": 4,
 "nbformat_minor": 1
}
