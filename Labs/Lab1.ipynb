{
 "cells": [
  {
   "cell_type": "markdown",
   "id": "cc390d0e",
   "metadata": {},
   "source": [
    "# Лабораторная работа №1\n",
    "## Выполнил студент группы БВТ2002 Терешонок Арсений Алексеевич\n",
    "### Задание №1"
   ]
  },
  {
   "cell_type": "code",
   "execution_count": 1,
   "id": "d4a0ee2a",
   "metadata": {},
   "outputs": [],
   "source": [
    "import math\n",
    "import timeit\n",
    "import random\n",
    "import heapq"
   ]
  },
  {
   "cell_type": "code",
   "execution_count": 2,
   "id": "5af26964",
   "metadata": {},
   "outputs": [
    {
     "name": "stdout",
     "output_type": "stream",
     "text": [
      "Hello,World\n"
     ]
    }
   ],
   "source": [
    "print (\"Hello,World\")"
   ]
  },
  {
   "cell_type": "markdown",
   "id": "cb16dac7",
   "metadata": {},
   "source": [
    "# Пузырьковая сотртировка"
   ]
  },
  {
   "cell_type": "code",
   "execution_count": 3,
   "id": "379081e8",
   "metadata": {},
   "outputs": [],
   "source": [
    "def puz(s):\n",
    "    N=len(s)\n",
    "    for i in range(N-1):\n",
    "        for j in range(N-i-1):\n",
    "            if s[j]>s[j+1]:\n",
    "                s[j],s[j+1] = s[j+1],s[j]\n",
    "    return(s)"
   ]
  },
  {
   "cell_type": "markdown",
   "id": "b75516c1",
   "metadata": {},
   "source": [
    "# Сортировка вставками"
   ]
  },
  {
   "cell_type": "code",
   "execution_count": 4,
   "id": "ddc6b122",
   "metadata": {},
   "outputs": [],
   "source": [
    "def insert(array):\n",
    "    for i in range (1,len(array)):\n",
    "        key = array[i]\n",
    "        j=i-1\n",
    "        while array[j]>key and j>=0:\n",
    "            array[j+1]= array[j]\n",
    "            j-=1\n",
    "        array[j+1]=key\n",
    "    return array"
   ]
  },
  {
   "cell_type": "markdown",
   "id": "c31ba201",
   "metadata": {},
   "source": [
    "# Cортировка выбором"
   ]
  },
  {
   "cell_type": "code",
   "execution_count": 5,
   "id": "c6094ba6",
   "metadata": {},
   "outputs": [],
   "source": [
    "def vibor(s):\n",
    "    n=len(s)\n",
    "    for i in range (n-1):\n",
    "        m = s[i]\n",
    "        p = i\n",
    "        for j in range (i+1,n):\n",
    "            if m > s[j]:\n",
    "                m=s[j]\n",
    "                p=j\n",
    "        if p!=i:\n",
    "            t=s[i]\n",
    "            s[i]=s[p]\n",
    "            s[p]=t\n",
    "    return s"
   ]
  },
  {
   "cell_type": "markdown",
   "id": "bf0456ff",
   "metadata": {},
   "source": [
    "# Метод Шелла"
   ]
  },
  {
   "cell_type": "code",
   "execution_count": 6,
   "id": "87311291",
   "metadata": {},
   "outputs": [],
   "source": [
    "def shell(data):\n",
    "    inc = len(data) // 2\n",
    "    while inc:\n",
    "        for i, el in enumerate(data):\n",
    "            while i >= inc and data[i - inc] > el:\n",
    "                data[i] = data[i - inc]\n",
    "                i -= inc\n",
    "            data[i] = el\n",
    "        inc = 1 if inc == 2 else int(inc * 5.0 / 11)\n",
    "    return data"
   ]
  },
  {
   "cell_type": "markdown",
   "id": "8d6024b9",
   "metadata": {},
   "source": [
    "# Пирамидальная сортировка"
   ]
  },
  {
   "cell_type": "code",
   "execution_count": 7,
   "id": "bfaa3bca",
   "metadata": {},
   "outputs": [],
   "source": [
    "def heapify(array, length, index_of_largest):\n",
    "    largest = index_of_largest\n",
    "    child_left = 2 * index_of_largest + 1\n",
    "    child_right = 2 * index_of_largest + 2\n",
    "\n",
    "    if child_left < length and array[largest] < array[child_left]:\n",
    "        largest = child_left\n",
    "\n",
    "    if child_right < length and array[largest] < array[child_right]:\n",
    "        largest = child_right\n",
    "\n",
    "    if largest != index_of_largest:\n",
    "        array[index_of_largest], array[largest] = array[largest], array[index_of_largest]\n",
    "\n",
    "        heapify(array, length, largest)\n",
    "def heap_sort(array):\n",
    "    n = len(array)\n",
    "\n",
    "    for i in range(n, -1, -1):\n",
    "        heapify(array, n, i)\n",
    "\n",
    "    for i in range(n - 1, 0, -1):\n",
    "        array[i], array[0] = array[0], array[i]\n",
    "        heapify(array, i, 0)\n",
    "    return array"
   ]
  },
  {
   "cell_type": "markdown",
   "id": "b430f1f5",
   "metadata": {},
   "source": [
    "# Быстрая сортировка"
   ]
  },
  {
   "cell_type": "code",
   "execution_count": 8,
   "id": "90c34d33",
   "metadata": {},
   "outputs": [],
   "source": [
    "def quick_sort(s):\n",
    "    if len(s) <= 1:\n",
    "        return s\n",
    "    elem=s[0]\n",
    "    left=list(filter(lambda x: x<elem,s))\n",
    "    center=[i for i in s if i==elem]\n",
    "    right=list(filter(lambda x: x>elem,s))\n",
    "    return quick_sort(left) + center + quick_sort(right)"
   ]
  },
  {
   "cell_type": "markdown",
   "id": "60cd2851",
   "metadata": {},
   "source": [
    "# Турнирная сортировка"
   ]
  },
  {
   "cell_type": "code",
   "execution_count": 9,
   "id": "d96a2392",
   "metadata": {},
   "outputs": [],
   "source": [
    "from queue import Queue\n",
    "def heapifyD(mass):\n",
    "    arr = []\n",
    "    for i in mass:\n",
    "        arr.append(tournament_sort(i))\n",
    "    return arr\n",
    "def tournament_sort(array): #O(nlogn)  (average)\n",
    "    queue = Queue()\n",
    "    for i in array:\n",
    "        queue.put(i)\n",
    "    win = []\n",
    "    lose = []\n",
    "    heap = []\n",
    "    for i in range(min(7,len(array))):\n",
    "        heap.append(queue.get())\n",
    "    heapq.heapify(heap)\n",
    "    while heap:\n",
    "        heap_min = heapq.heappop(heap)\n",
    "        if not win or heap_min >= win[-1]:\n",
    "            win.append(heap_min)\n",
    "        else:\n",
    "            lose.append(heap_min)\n",
    "        if not queue.empty():\n",
    "            heapq.heappush(heap, queue.get())\n",
    "    if not lose:\n",
    "        return win\n",
    "    return merge(tournament_sort(lose), win)\n",
    "\n",
    "def t_sort_lines(M): #O(m*nlogn)  (average)\n",
    "    A = []\n",
    "    for line in M:\n",
    "        A.append(tournament_sort(line))\n",
    "    return A"
   ]
  },
  {
   "cell_type": "markdown",
   "id": "319f23a6",
   "metadata": {},
   "source": [
    "# Создание случайного массива"
   ]
  },
  {
   "cell_type": "code",
   "execution_count": 10,
   "id": "261d30b2",
   "metadata": {},
   "outputs": [
    {
     "name": "stdout",
     "output_type": "stream",
     "text": [
      "init array\n"
     ]
    }
   ],
   "source": [
    "import random\n",
    "def generate_array(length=100):\n",
    "    array=[]\n",
    "    while len(array) < length:\n",
    "        array.append(random.randint(0,1000))\n",
    "    return array\n",
    "init_array = generate_array(1000)\n",
    "print('init array')"
   ]
  },
  {
   "cell_type": "markdown",
   "id": "4b29c1ec",
   "metadata": {},
   "source": [
    "# Измерение времени работы каждого алгоритма"
   ]
  },
  {
   "cell_type": "code",
   "execution_count": 11,
   "id": "bc0220bc",
   "metadata": {},
   "outputs": [
    {
     "name": "stdout",
     "output_type": "stream",
     "text": [
      "Пузырьковая сотртировка (sec) = 0.12105150000000009\n",
      "Сортровка выбором (sec) = 0.03073250000000005\n",
      "Сортировка Шелла (sec) = 0.0015164999999992546\n",
      "Пирамидальная сортировка (sec) = 0.007173700000000061\n",
      "Быстрая сортировка (sec) = 0.08509649999999969\n",
      "Сортировка вставками (sec) = 0.00022959999999994096\n",
      "Сортировка выбором (sec) = 0.030874200000000407\n",
      "Турнирная сортировка (sec) = 0.006470200000000759\n"
     ]
    }
   ],
   "source": [
    "print(\"Пузырьковая сотртировка (sec) = \"+str(timeit.timeit(\"puz(init_array)\",number=1,globals=globals())))\n",
    "print(\"Сортровка выбором (sec) = \"+str(timeit.timeit(\"vibor(init_array)\",number=1,globals=globals())))\n",
    "print(\"Сортировка Шелла (sec) = \"+str(timeit.timeit(\"shell(init_array)\",number=1,globals=globals())))\n",
    "print(\"Пирамидальная сортировка (sec) = \"+str(timeit.timeit(\"heap_sort(init_array)\",number=1,globals=globals())))\n",
    "print(\"Быстрая сортировка (sec) = \"+str(timeit.timeit(\"quick_sort(init_array)\",number=1,globals=globals())))\n",
    "print(\"Сортировка вставками (sec) = \"+str(timeit.timeit(\"insert(init_array)\",number=1,globals=globals())))\n",
    "print(\"Сортировка выбором (sec) = \"+str(timeit.timeit(\"vibor(init_array)\",number=1,globals=globals())))\n",
    "print(\"Турнирная сортировка (sec) = \"+str(timeit.timeit(\"tournament_sort(init_array)\",number=1,globals=globals())))\n",
    "\n",
    "\n"
   ]
  },
  {
   "cell_type": "markdown",
   "id": "83f8a04d",
   "metadata": {},
   "source": [
    "# Вывод:в результате измерений сортировка вставками оказалась самой быстрой, а самая долгая - пузырькаовая."
   ]
  }
 ],
 "metadata": {
  "kernelspec": {
   "display_name": "Python 3 (ipykernel)",
   "language": "python",
   "name": "python3"
  },
  "language_info": {
   "codemirror_mode": {
    "name": "ipython",
    "version": 3
   },
   "file_extension": ".py",
   "mimetype": "text/x-python",
   "name": "python",
   "nbconvert_exporter": "python",
   "pygments_lexer": "ipython3",
   "version": "3.9.7"
  }
 },
 "nbformat": 4,
 "nbformat_minor": 5
}
