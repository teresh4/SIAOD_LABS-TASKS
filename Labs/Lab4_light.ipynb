{
 "cells": [
  {
   "cell_type": "markdown",
   "id": "fifteen-sailing",
   "metadata": {},
   "source": [
    "# Лабораторная работа №4\n",
    "## Выполнил студент группы БВТ2002 Терешонок Арсений"
   ]
  },
  {
   "cell_type": "markdown",
   "id": "arctic-stocks",
   "metadata": {},
   "source": [
    "Реализовать следующие структуры данных:\n",
    "  \n",
    "● <b> Стек (stack): </b>  \n",
    "Операции для стека: \n",
    "<i> инициализация, проверка на пустоту, добавление нового элемента в начало, извлечение элемента из начала;  </i>  \n",
    "  \n",
    "● <b> Дек (двусторонняя очередь, deque):  </b>  \n",
    "Операции для дека: \n",
    "<i> инициализация, проверка на пустоту, добавление нового элемента в начало, добавление нового элемента в конец, извлечение элемента из начала, извлечение элемента из конца. </i>  \n",
    "  \n",
    "<i> Разработать программу обработки данных, содержащихся в заранее подготовленном txt-файле, в соответствии с заданиями, применив указанную в задании структуру данных. Результат работы программы вывести на экран и сохранить в отдельном txt-файле. </i>"
   ]
  },
  {
   "cell_type": "code",
   "execution_count": 142,
   "id": "d65e2e0c",
   "metadata": {},
   "outputs": [],
   "source": [
    "class Stack:\n",
    "    def __init__(self):\n",
    "        self.items = []\n",
    "\n",
    "    def isEmpty(self):\n",
    "        return self.items == []\n",
    "\n",
    "    def push(self, item):\n",
    "        self.items.append(item)\n",
    "\n",
    "    def pop(self):\n",
    "        return self.items.pop()\n",
    "\n",
    "    def peek(self):\n",
    "        return self.items[len(self.items)-1]\n",
    "\n",
    "    def size(self):\n",
    "        return len(self.items)\n",
    "    def to_str(self):\n",
    "        s=''\n",
    "        while self.size()>0:\n",
    "            s=self.items.pop()+s\n",
    "        return s"
   ]
  },
  {
   "cell_type": "code",
   "execution_count": 143,
   "id": "be574221",
   "metadata": {},
   "outputs": [],
   "source": [
    "from collections import deque"
   ]
  },
  {
   "cell_type": "code",
   "execution_count": 144,
   "id": "122a9bf3",
   "metadata": {},
   "outputs": [],
   "source": [
    "def write_txt(file_name, data):\n",
    "    file_name = \"./\"+file_name\n",
    "    with open(file_name, \"w\") as f:\n",
    "        f.write(str(data))\n",
    "    return str(data)"
   ]
  },
  {
   "cell_type": "code",
   "execution_count": 145,
   "id": "b04f645e",
   "metadata": {},
   "outputs": [],
   "source": [
    "def read_txt_to_deq(file_name):\n",
    "    res = deque()\n",
    "    sarr=''\n",
    "    msarr=[]\n",
    "    with open(\"./\" + file_name, \"r\") as f:\n",
    "        for line in f.readlines():\n",
    "            sarr+=(line.replace(\"\\n\", \"\"))\n",
    "        msarr=sarr.split()\n",
    "        for i in range(len(msarr)):\n",
    "            res.append(msarr[i])\n",
    "        print(str(file_name.split('.')[0])+\" input: \"+str(res))\n",
    "    return res"
   ]
  },
  {
   "cell_type": "markdown",
   "id": "5d7edb08",
   "metadata": {
    "scrolled": true
   },
   "source": [
    "### Задание №1\n",
    "Отсортировать строки файла, содержащие названия книг, в алфавитном порядке с использованием двух деков."
   ]
  },
  {
   "cell_type": "code",
   "execution_count": 146,
   "id": "17702ade",
   "metadata": {},
   "outputs": [
    {
     "name": "stdout",
     "output_type": "stream",
     "text": [
      "task1 input: deque(['a', 'y', 'r', 'i', 'o', 'h', 'f'])\n",
      "deque(['a', 'f', 'h', 'i', 'o', 'r', 'y'])\n"
     ]
    }
   ],
   "source": [
    "def solution1():\n",
    "    inp = read_txt_to_deq(\"task1.txt\")\n",
    "    tmp_deque = deque()\n",
    "    while not len(inp)==0:\n",
    "        elem = inp.pop()\n",
    "        while not len(tmp_deque)==0 and tmp_deque[-1] > elem:\n",
    "            inp.append(tmp_deque.pop())\n",
    "        tmp_deque.append(elem)\n",
    "    return write_txt(\"solution1.txt\", str(tmp_deque))\n",
    "print(solution1())"
   ]
  },
  {
   "cell_type": "markdown",
   "id": "49fbd2a0",
   "metadata": {},
   "source": [
    "### Задание №2\n",
    "Дек содержит последовательность символов для шифровки сообщений. Дан текстовый файл, содержащий зашифрованное сообщение. Пользуясь деком, расшифровать текст. \n",
    "Известно, что при шифровке каждый символ сообщения заменялся следующим за ним в деке по часовой стрелке через один."
   ]
  },
  {
   "cell_type": "code",
   "execution_count": 147,
   "id": "81cab7a8",
   "metadata": {},
   "outputs": [
    {
     "name": "stdout",
     "output_type": "stream",
     "text": [
      "task2_text input: deque(['1', '2', '3', '4', '5'])\n",
      "task2_dict input: deque(['1', '2', '3', '4', '5'])\n",
      "45123\n"
     ]
    }
   ],
   "source": [
    "def solution2():\n",
    "    text = str(read_txt_to_deq(\"task2_text.txt\"))\n",
    "    res = [\"\" for i in range(len(text)-1)]\n",
    "    dictionary = read_txt_to_deq(\"task2_dict.txt\")\n",
    "    for i in range(len(dictionary)):\n",
    "        l1 = dictionary.pop()\n",
    "        l2 = dictionary.pop()\n",
    "        for j in range(len(text)):\n",
    "            if text[j] == str(l1):\n",
    "                res[j] = str(dictionary[-1])\n",
    "        dictionary.append(l2)\n",
    "        dictionary.appendleft(l1)\n",
    "    return write_txt(\"solution2.txt\", ''.join(res))\n",
    "print(solution2())"
   ]
  },
  {
   "cell_type": "markdown",
   "id": "c0894f47",
   "metadata": {},
   "source": [
    "### Задание №3\n",
    "Даны три стержня и n дисков различного размера. Диски можно надевать на стержни, образуя из них башни. Перенести n дисков со стержня А на стержень С, сохранив их первоначальный порядок. При переносе дисков необходимо соблюдать следующие правила:\n",
    "- на каждом шаге со стержня на стержень переносить только один диск;\n",
    "- диск нельзя помещать на диск меньшего размера;\n",
    "- для промежуточного хранения можно использовать стержень В.\n",
    "Реализовать алгоритм, используя три стека вместо стержней А, В, С. Информация о дисках хранится в исходном файле."
   ]
  },
  {
   "cell_type": "code",
   "execution_count": 148,
   "id": "9e91a9d4",
   "metadata": {},
   "outputs": [
    {
     "name": "stdout",
     "output_type": "stream",
     "text": [
      "task3 input: deque(['9'])\n",
      "[1, 2, 3, 4, 5, 6, 7, 8, 9]\n"
     ]
    }
   ],
   "source": [
    "def solution3():\n",
    "    s=[]\n",
    "    n = int(read_txt_to_deq(\"task3.txt\").popleft())\n",
    "    a, b, c = Stack(), Stack(), Stack()\n",
    "    for i in range(n, 0, -1):\n",
    "        a.push(i)\n",
    "    move(n, a, b, c)\n",
    "    for i in range (c.size()):\n",
    "        s.append(c.pop())\n",
    "    return write_txt(\"solution3.txt\",s)\n",
    "def move(rings_count, a, b, c):\n",
    "    if rings_count == 1:\n",
    "        c.push(a.pop())\n",
    "        return\n",
    "    move(rings_count - 1, a, c, b)\n",
    "    c.push(a.pop())\n",
    "    move(rings_count - 1, b, a, c)\n",
    "print(solution3())"
   ]
  },
  {
   "cell_type": "markdown",
   "id": "e5b0be17",
   "metadata": {},
   "source": [
    "### Задание №4\n",
    "Дан текстовый файл с программой на алгоритмическом языке. За один просмотр файла проверить баланс круглых скобок в тексте, используя стек."
   ]
  },
  {
   "cell_type": "code",
   "execution_count": 149,
   "id": "5b1df60a",
   "metadata": {},
   "outputs": [
    {
     "name": "stdout",
     "output_type": "stream",
     "text": [
      "task4 input: deque(['((())))))'])\n",
      "False\n"
     ]
    }
   ],
   "source": [
    "def solution4():\n",
    "    txt = str(read_txt_to_deq(\"task4.txt\"))\n",
    "    s = Stack()\n",
    "    for i in txt:\n",
    "        if i in (\"(\", \")\"):\n",
    "            if s.isEmpty() or s.peek() == i:\n",
    "                s.push(i)\n",
    "            else:\n",
    "                s.pop()\n",
    "    return write_txt(\"solution4.txt\", s.isEmpty())\n",
    "print(solution4())"
   ]
  },
  {
   "cell_type": "markdown",
   "id": "c44cdd6b",
   "metadata": {},
   "source": [
    "### Задание №5\n",
    "Дан текстовый файл с программой на алгоритмическом языке. За один просмотр файла проверить баланс квадратных скобок в тексте, используя дек."
   ]
  },
  {
   "cell_type": "code",
   "execution_count": 150,
   "id": "36b8f400",
   "metadata": {},
   "outputs": [
    {
     "name": "stdout",
     "output_type": "stream",
     "text": [
      "task4 input: deque(['((())))))'])\n",
      "True\n"
     ]
    }
   ],
   "source": [
    "def is_emptydeq(dq):\n",
    "    if len(dq)==0: tst =True\n",
    "    else: tst= False\n",
    "    return tst\n",
    "def solution5():\n",
    "    txt = str(read_txt_to_deq(\"task4.txt\"))\n",
    "    d = deque()\n",
    "    for i in txt:\n",
    "        if i in (\"[\", \"]\"):\n",
    "            if len(d)==0 or d[-1] == i:\n",
    "                d.append(i)\n",
    "            else:\n",
    "                d.popleft()\n",
    "    return write_txt(\"solution5.txt\",is_emptydeq(d))\n",
    "print(solution5())"
   ]
  },
  {
   "cell_type": "markdown",
   "id": "59d13dc7",
   "metadata": {},
   "source": [
    "### Задание №6\n",
    "Дан файл из символов. Используя стек, за один просмотр файла напечатать сначала все цифры, затем все буквы, и, наконец, все остальные символы, сохраняя исходный порядок в каждой группе символов."
   ]
  },
  {
   "cell_type": "code",
   "execution_count": 151,
   "id": "297e36c2",
   "metadata": {},
   "outputs": [
    {
     "name": "stdout",
     "output_type": "stream",
     "text": [
      "task6 input: deque(['asgashgasrg5453543'])\n",
      "5453543dequeasgashgasrg([''])\n"
     ]
    }
   ],
   "source": [
    "def solution6():\n",
    "    letters = Stack()\n",
    "    symbols = Stack()\n",
    "    txt = str(read_txt_to_deq(\"task6.txt\"))\n",
    "    res = \"\"\n",
    "    for i in txt:\n",
    "        if 48 <= ord(i) <= 57:\n",
    "            res += i\n",
    "        elif 97 <= ord(i) <= 122 or 65 <= ord(i) <= 90:\n",
    "            letters.push(i)\n",
    "        else:\n",
    "            symbols.push(i)\n",
    "    letters_res = \"\"\n",
    "    while not letters.isEmpty():\n",
    "        letters_res += letters.pop()\n",
    "    symbols_res = \"\"\n",
    "    while not symbols.isEmpty():\n",
    "        symbols_res += symbols.pop()\n",
    "    return write_txt(\"solution6.txt\", res + letters_res[::-1] + symbols_res[::-1])\n",
    "print(solution6())"
   ]
  },
  {
   "cell_type": "markdown",
   "id": "973f68bd",
   "metadata": {},
   "source": [
    "### Задание №7\n",
    "Дан файл из целых чисел. Используя дек, за один просмотр файла напечатать сначала все отрицательные числа, затем все положительные числа, сохраняя исходный порядок в каждой группе."
   ]
  },
  {
   "cell_type": "code",
   "execution_count": 157,
   "id": "c56fad66",
   "metadata": {},
   "outputs": [
    {
     "name": "stdout",
     "output_type": "stream",
     "text": [
      "task7 input: deque(['0', '-1', '-4', '3', '2', '5', '-6', '-8', '1'])\n",
      "-1 -4 -6 -8 0 3 2 5 1 \n"
     ]
    }
   ],
   "source": [
    "def solution7():\n",
    "    a = (read_txt_to_deq(\"task7.txt\"))\n",
    "    alist=[]\n",
    "    for ael in a:\n",
    "        alist.append(int(ael))\n",
    "    d = deque()\n",
    "    res = \"\"\n",
    "    for i in alist:\n",
    "        if int(i) < 0:\n",
    "            res += str(int(i)) + \" \"\n",
    "        else:\n",
    "            d.append(int(i))\n",
    "    dd=[]\n",
    "    for deel in d:\n",
    "       dd.append(int(deel))\n",
    "    ddstr=''\n",
    "    for deel in d:\n",
    "        ddstr+=str(deel)+\" \"\n",
    "    return write_txt(\"solution7.txt\", res + str(ddstr))\n",
    "print(solution7())"
   ]
  },
  {
   "cell_type": "markdown",
   "id": "b9228191",
   "metadata": {},
   "source": [
    "### Задание №8\n",
    "Дан текстовый файл. Используя стек, сформировать новый текстовый файл, содержащий строки исходного файла, записанные в обратном порядке: первая строка становится последней, вторая – предпоследней и т.д."
   ]
  },
  {
   "cell_type": "code",
   "execution_count": 159,
   "id": "981fbdfe",
   "metadata": {},
   "outputs": [
    {
     "name": "stdout",
     "output_type": "stream",
     "text": [
      "task8 input: deque(['row1', 'row2', 'row3', 'row4', 'row5'])\n",
      "row5 row4 row3 row2 row1 \n"
     ]
    }
   ],
   "source": [
    "def solution8():\n",
    "    txt = (read_txt_to_deq(\"task8.txt\"))\n",
    "    txtm=[]\n",
    "    for t in txt:\n",
    "        txtm.append(str(t))\n",
    "    s = Stack()\n",
    "    for row in txtm:\n",
    "        s.push(row)\n",
    "    res = \"\"\n",
    "    while not s.isEmpty():\n",
    "        res += s.pop() + \" \"\n",
    "    return write_txt(\"solution8.txt\", res)\n",
    "print(solution8())"
   ]
  },
  {
   "cell_type": "markdown",
   "id": "rental-jerusalem",
   "metadata": {},
   "source": [
    "### Вывод\n"
   ]
  },
  {
   "cell_type": "markdown",
   "id": "0c2b8899",
   "metadata": {},
   "source": [
    "В ходе  данной лабораторной работе были написаны две коллекции - Stack и Deque. Кроме этого, были решены задачи на использование данных структур данных и отработаны навыки работы с файлами в языке Python"
   ]
  }
 ],
 "metadata": {
  "kernelspec": {
   "display_name": "Python 3 (ipykernel)",
   "language": "python",
   "name": "python3"
  },
  "language_info": {
   "codemirror_mode": {
    "name": "ipython",
    "version": 3
   },
   "file_extension": ".py",
   "mimetype": "text/x-python",
   "name": "python",
   "nbconvert_exporter": "python",
   "pygments_lexer": "ipython3",
   "version": "3.9.7"
  }
 },
 "nbformat": 4,
 "nbformat_minor": 5
}
