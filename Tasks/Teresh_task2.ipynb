{
 "cells": [
  {
   "cell_type": "markdown",
   "id": "908a2541",
   "metadata": {},
   "source": [
    "## Терешонок Арсений БВТ2002"
   ]
  },
  {
   "cell_type": "markdown",
   "id": "arctic-stocks",
   "metadata": {},
   "source": [
    "### Задание №1\n",
    "Массив A состоит из целых положительных чисел длин отрезков. Составьте из трех отрезков такой треугольник, чтобы его периметр был максимально возможным. Если невозможно составить треугольник с положительной площадью функция возвращает 0."
   ]
  },
  {
   "cell_type": "code",
   "execution_count": 1,
   "id": "caring-truck",
   "metadata": {
    "scrolled": false
   },
   "outputs": [
    {
     "name": "stdout",
     "output_type": "stream",
     "text": [
      "24\n"
     ]
    }
   ],
   "source": [
    "def task1(array):\n",
    "    array.sort()\n",
    "    for i in range(len(array) - 3,-1,-1):\n",
    "        if array[i] + array[i + 1] > array[i + 2]:\n",
    "            return array[i] + array[i + 1] + array[i + 2]\n",
    "    return 0\n",
    "print(task1([1,2,3,4,5,6,7,8,9,0]))"
   ]
  },
  {
   "cell_type": "markdown",
   "id": "maritime-conversation",
   "metadata": {},
   "source": [
    "### Задание №2\n",
    "Дан массив неотрицательных целых чисел nums. Расположите их в таком порядке, чтобы вместе они образовали максимально возможное число. Замечание: Результат может быть очень большим числом, поэтому представьте его как string, а не integer."
   ]
  },
  {
   "cell_type": "code",
   "execution_count": null,
   "id": "2774af92",
   "metadata": {},
   "outputs": [],
   "source": [
    "def maximum_digit(arr):\n",
    "    for i in range (len(arr)):\n",
    "        arr[i]=str(arr[i])\n",
    "    result=''\n",
    "    arr.sort(reverse=True)\n",
    "    for i in range(len(arr)):\n",
    "        result+=arr[i]\n",
    "    return(result)\n",
    "dig = [53, 130, 78, 999, 49, 1, 0, 627]\n",
    "maxim=int(maximum_digit(dig))\n",
    "print(maxim)"
   ]
  },
  {
   "cell_type": "markdown",
   "id": "catholic-roots",
   "metadata": {},
   "source": [
    "### Задание №3\n",
    "Дана матрица mat размером m * n, значения целочисленные. Напишите функцию, сортирующую каждую диагональ матрицы по возрастанию и возвращающую получившуюся матрицу."
   ]
  },
  {
   "cell_type": "code",
   "execution_count": 1,
   "id": "9c6ddfd2",
   "metadata": {},
   "outputs": [
    {
     "name": "stdout",
     "output_type": "stream",
     "text": [
      "7 2 3 4 5 \n",
      "6 1 8 9 10 \n",
      "\n",
      "1 6 3 4 5 \n",
      "2 7 8 9 10 \n",
      "\n"
     ]
    }
   ],
   "source": [
    "def matr_printing(mtr):\n",
    "    for i in range (len(mtr)):\n",
    "        for j in range(len(mtr[0])):\n",
    "            print (mtr[i][j], end=' ')\n",
    "        print()\n",
    "    print()\n",
    "def sorting(s):\n",
    "    length=min(len(s),len(s[0]))\n",
    "    maind=[]\n",
    "    sd=[]\n",
    "    for i in range (length):\n",
    "        maind.append(s[i][i])\n",
    "        sd.append(s[-i-1][i])\n",
    "    maind.sort()\n",
    "    sd.sort()\n",
    "    for i in range(length):\n",
    "        s[i][i]=maind[i]\n",
    "        s[-i-1][i]=sd[i]\n",
    "    return(s)\n",
    "matrix=[[7,2,3,4,5],[6,1,8,9,10]]\n",
    "matr_printing(matrix)\n",
    "sorting(matrix)\n",
    "matr_printing(matrix)\n",
    "        \n",
    "    "
   ]
  },
  {
   "cell_type": "code",
   "execution_count": null,
   "id": "883a87fc",
   "metadata": {},
   "outputs": [],
   "source": []
  }
 ],
 "metadata": {
  "kernelspec": {
   "display_name": "Python 3 (ipykernel)",
   "language": "python",
   "name": "python3"
  },
  "language_info": {
   "codemirror_mode": {
    "name": "ipython",
    "version": 3
   },
   "file_extension": ".py",
   "mimetype": "text/x-python",
   "name": "python",
   "nbconvert_exporter": "python",
   "pygments_lexer": "ipython3",
   "version": "3.9.7"
  }
 },
 "nbformat": 4,
 "nbformat_minor": 5
}
